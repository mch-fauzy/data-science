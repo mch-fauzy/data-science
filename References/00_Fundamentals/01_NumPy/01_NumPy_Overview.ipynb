{
  "nbformat": 4,
  "nbformat_minor": 0,
  "metadata": {
    "colab": {
      "name": "01 - NumPy Overview.ipynb",
      "provenance": [],
      "collapsed_sections": [],
      "toc_visible": true,
      "authorship_tag": "ABX9TyMlhFsor3BoYs346WEb0+Ew",
      "include_colab_link": true
    },
    "kernelspec": {
      "name": "python3",
      "display_name": "Python 3"
    }
  },
  "cells": [
    {
      "cell_type": "markdown",
      "metadata": {
        "id": "view-in-github",
        "colab_type": "text"
      },
      "source": [
        "<a href=\"https://colab.research.google.com/github/mch-fauzy/data-science/blob/main/References/00_Fundamentals/01_NumPy/01_NumPy_Overview.ipynb\" target=\"_parent\"><img src=\"https://colab.research.google.com/assets/colab-badge.svg\" alt=\"Open In Colab\"/></a>"
      ]
    },
    {
      "cell_type": "markdown",
      "metadata": {
        "id": "SXxO7Uft7SV9"
      },
      "source": [
        "\n",
        "# **01 - NumPy**\n",
        "\n",
        "NumPy is a powerful linear algebra library for Python. What makes it so important is that almost all of the libraries in the <a href='https://pydata.org/'>PyData</a> ecosystem (pandas, scipy, scikit-learn, etc.) rely on NumPy as one of their main building blocks. Plus we will use it to generate data for our analysis examples later on!\n",
        "\n",
        "NumPy is also incredibly fast, as it has bindings to C libraries. For more info on why you would want to use arrays instead of lists, check out this great [StackOverflow post](http://stackoverflow.com/questions/993984/why-numpy-instead-of-python-lists)."
      ]
    },
    {
      "cell_type": "markdown",
      "metadata": {
        "id": "TxqfGkNz7SWO"
      },
      "source": [
        "NumPy has many built-in functions and capabilities. We won't cover them all but instead we will focus on some of the most important aspects of NumPy: vectors, arrays, matrices and number generation.\n",
        "\n",
        "## A. NumPy Arrays\n",
        "\n",
        "NumPy arrays are the main way we will use NumPy throughout the course. NumPy arrays essentially come in two flavors: vectors and matrices. Vectors are strictly 1-dimensional (1D) arrays and matrices are 2D (but you should note a matrix can still have only one row or one column).\n",
        "\n",
        "## Why use Numpy array? Why not just a list?\n",
        "\n",
        "There are lot's of reasons to use a Numpy array instead of a \"standard\" python list object. Our main reasons are:\n",
        "* Memory Efficiency of Numpy Array vs list\n",
        "* Easily expands to N-dimensional objects\n",
        "* Speed of calculations of numpy array\n",
        "* Broadcasting operations and functions with numpy\n",
        "* All the data science and machine learning libraries we use are built with Numpy\n"
      ]
    },
    {
      "cell_type": "markdown",
      "metadata": {
        "id": "m62dYfLh7SWF"
      },
      "source": [
        "**Importing NumPy**\n",
        "\n",
        "Once you've installed NumPy you can import it as a library:"
      ]
    },
    {
      "cell_type": "code",
      "metadata": {
        "id": "1eh4nBD67SWH"
      },
      "source": [
        "import numpy as np"
      ],
      "execution_count": null,
      "outputs": []
    },
    {
      "cell_type": "markdown",
      "metadata": {
        "id": "OhBOH_8MQ-Ue"
      },
      "source": [
        "---"
      ]
    },
    {
      "cell_type": "markdown",
      "metadata": {
        "id": "9L71FyAp7SWZ"
      },
      "source": [
        "\n",
        "### a. Creating NumPy Arrays from Objects\n",
        "\n",
        "#### From a Python List\n",
        "\n",
        "We can create an array by directly converting a list or list of lists:"
      ]
    },
    {
      "cell_type": "code",
      "metadata": {
        "id": "mip3rbYT7SWb",
        "colab": {
          "base_uri": "https://localhost:8080/"
        },
        "outputId": "57b1294f-e031-4498-e0da-11ca28823ee2"
      },
      "source": [
        "my_list = [1,2,3]\n",
        "my_list"
      ],
      "execution_count": null,
      "outputs": [
        {
          "output_type": "execute_result",
          "data": {
            "text/plain": [
              "[1, 2, 3]"
            ]
          },
          "metadata": {
            "tags": []
          },
          "execution_count": 2
        }
      ]
    },
    {
      "cell_type": "code",
      "metadata": {
        "id": "szpu4GN37SWf",
        "colab": {
          "base_uri": "https://localhost:8080/"
        },
        "outputId": "21f00302-9ec8-4a55-f8aa-5a2d3615cc21"
      },
      "source": [
        "np.array(my_list)"
      ],
      "execution_count": null,
      "outputs": [
        {
          "output_type": "execute_result",
          "data": {
            "text/plain": [
              "array([1, 2, 3])"
            ]
          },
          "metadata": {
            "tags": []
          },
          "execution_count": 3
        }
      ]
    },
    {
      "cell_type": "code",
      "metadata": {
        "id": "WH42Xih47SWi",
        "colab": {
          "base_uri": "https://localhost:8080/"
        },
        "outputId": "1f0fbe88-bf33-4089-8bfc-c8b429ea1a4b"
      },
      "source": [
        "my_matrix = [[1,2,3],[4,5,6],[7,8,9]]\n",
        "my_matrix"
      ],
      "execution_count": null,
      "outputs": [
        {
          "output_type": "execute_result",
          "data": {
            "text/plain": [
              "[[1, 2, 3], [4, 5, 6], [7, 8, 9]]"
            ]
          },
          "metadata": {
            "tags": []
          },
          "execution_count": 4
        }
      ]
    },
    {
      "cell_type": "code",
      "metadata": {
        "id": "Nt3UYTWQ7SWl",
        "colab": {
          "base_uri": "https://localhost:8080/"
        },
        "outputId": "9e917b8b-9333-4680-8b21-35905779aede"
      },
      "source": [
        "np.array(my_matrix)"
      ],
      "execution_count": null,
      "outputs": [
        {
          "output_type": "execute_result",
          "data": {
            "text/plain": [
              "array([[1, 2, 3],\n",
              "       [4, 5, 6],\n",
              "       [7, 8, 9]])"
            ]
          },
          "metadata": {
            "tags": []
          },
          "execution_count": 5
        }
      ]
    },
    {
      "cell_type": "markdown",
      "metadata": {
        "id": "ywyD5jJMRAyt"
      },
      "source": [
        "---"
      ]
    },
    {
      "cell_type": "markdown",
      "metadata": {
        "id": "ahIEvwmc7SWm"
      },
      "source": [
        "\n",
        "### b. Built-in Methods to create arrays\n",
        "\n",
        "There are lots of built-in ways to generate arrays."
      ]
    },
    {
      "cell_type": "markdown",
      "metadata": {
        "id": "u3nGPMpn7SWn"
      },
      "source": [
        "#### arange\n",
        "\n",
        "Return evenly spaced values within a given interval. [[reference](https://docs.scipy.org/doc/numpy-1.15.0/reference/generated/numpy.arange.html)]"
      ]
    },
    {
      "cell_type": "code",
      "metadata": {
        "id": "S5fWSXRQ7SWn",
        "colab": {
          "base_uri": "https://localhost:8080/"
        },
        "outputId": "ea37d4ca-b50e-4c6e-9f6f-e44fc5ceb274"
      },
      "source": [
        "np.arange(0,10)"
      ],
      "execution_count": null,
      "outputs": [
        {
          "output_type": "execute_result",
          "data": {
            "text/plain": [
              "array([0, 1, 2, 3, 4, 5, 6, 7, 8, 9])"
            ]
          },
          "metadata": {
            "tags": []
          },
          "execution_count": 6
        }
      ]
    },
    {
      "cell_type": "code",
      "metadata": {
        "id": "N2dHAo0b7SWo",
        "colab": {
          "base_uri": "https://localhost:8080/"
        },
        "outputId": "c838046a-196e-4f8b-91df-07455121eb32"
      },
      "source": [
        "np.arange(0,11,2)"
      ],
      "execution_count": null,
      "outputs": [
        {
          "output_type": "execute_result",
          "data": {
            "text/plain": [
              "array([ 0,  2,  4,  6,  8, 10])"
            ]
          },
          "metadata": {
            "tags": []
          },
          "execution_count": 7
        }
      ]
    },
    {
      "cell_type": "markdown",
      "metadata": {
        "id": "jn633Je57SWp"
      },
      "source": [
        "---\n",
        "#### zeros and ones\n",
        "\n",
        "Generate arrays of zeros or ones. [[reference](https://docs.scipy.org/doc/numpy-1.15.0/reference/generated/numpy.zeros.html)]"
      ]
    },
    {
      "cell_type": "code",
      "metadata": {
        "id": "hb9vgEvD7SWq",
        "colab": {
          "base_uri": "https://localhost:8080/"
        },
        "outputId": "e4d98fae-c1e0-4377-a125-44d9d1e1aa3c"
      },
      "source": [
        "np.zeros(3)"
      ],
      "execution_count": null,
      "outputs": [
        {
          "output_type": "execute_result",
          "data": {
            "text/plain": [
              "array([0., 0., 0.])"
            ]
          },
          "metadata": {
            "tags": []
          },
          "execution_count": 8
        }
      ]
    },
    {
      "cell_type": "code",
      "metadata": {
        "id": "WCjaZf_Q7SWr",
        "colab": {
          "base_uri": "https://localhost:8080/"
        },
        "outputId": "4e0df6fd-48ac-466a-f479-8af45c8f916e"
      },
      "source": [
        "np.zeros((5,5))"
      ],
      "execution_count": null,
      "outputs": [
        {
          "output_type": "execute_result",
          "data": {
            "text/plain": [
              "array([[0., 0., 0., 0., 0.],\n",
              "       [0., 0., 0., 0., 0.],\n",
              "       [0., 0., 0., 0., 0.],\n",
              "       [0., 0., 0., 0., 0.],\n",
              "       [0., 0., 0., 0., 0.]])"
            ]
          },
          "metadata": {
            "tags": []
          },
          "execution_count": 9
        }
      ]
    },
    {
      "cell_type": "code",
      "metadata": {
        "id": "zLNSQLXS7SWs",
        "colab": {
          "base_uri": "https://localhost:8080/"
        },
        "outputId": "d10976ca-9829-43fe-f64a-a3e75b229c79"
      },
      "source": [
        "np.ones(3)"
      ],
      "execution_count": null,
      "outputs": [
        {
          "output_type": "execute_result",
          "data": {
            "text/plain": [
              "array([1., 1., 1.])"
            ]
          },
          "metadata": {
            "tags": []
          },
          "execution_count": 10
        }
      ]
    },
    {
      "cell_type": "code",
      "metadata": {
        "id": "5Tp8ycP57SWt",
        "colab": {
          "base_uri": "https://localhost:8080/"
        },
        "outputId": "0b8d1cda-67b2-4d07-b269-78d58fce487e"
      },
      "source": [
        "np.ones((3,3))"
      ],
      "execution_count": null,
      "outputs": [
        {
          "output_type": "execute_result",
          "data": {
            "text/plain": [
              "array([[1., 1., 1.],\n",
              "       [1., 1., 1.],\n",
              "       [1., 1., 1.]])"
            ]
          },
          "metadata": {
            "tags": []
          },
          "execution_count": 11
        }
      ]
    },
    {
      "cell_type": "markdown",
      "metadata": {
        "id": "Mb54LFSn7SWu"
      },
      "source": [
        "---\n",
        "#### linspace \n",
        "Return evenly spaced numbers over a specified interval. [[reference](https://www.numpy.org/devdocs/reference/generated/numpy.linspace.html)]"
      ]
    },
    {
      "cell_type": "code",
      "metadata": {
        "id": "tgl4TUmH7SWu",
        "colab": {
          "base_uri": "https://localhost:8080/"
        },
        "outputId": "59e82ba3-e479-4e7d-f443-041d385e9575"
      },
      "source": [
        "np.linspace(0,10,3)"
      ],
      "execution_count": null,
      "outputs": [
        {
          "output_type": "execute_result",
          "data": {
            "text/plain": [
              "array([ 0.,  5., 10.])"
            ]
          },
          "metadata": {
            "tags": []
          },
          "execution_count": 12
        }
      ]
    },
    {
      "cell_type": "code",
      "metadata": {
        "id": "VL5UtDbp7SWx",
        "colab": {
          "base_uri": "https://localhost:8080/"
        },
        "outputId": "0551d3ea-4011-4f0c-912e-5432a63b210b"
      },
      "source": [
        "np.linspace(0,5,20)"
      ],
      "execution_count": null,
      "outputs": [
        {
          "output_type": "execute_result",
          "data": {
            "text/plain": [
              "array([0.        , 0.26315789, 0.52631579, 0.78947368, 1.05263158,\n",
              "       1.31578947, 1.57894737, 1.84210526, 2.10526316, 2.36842105,\n",
              "       2.63157895, 2.89473684, 3.15789474, 3.42105263, 3.68421053,\n",
              "       3.94736842, 4.21052632, 4.47368421, 4.73684211, 5.        ])"
            ]
          },
          "metadata": {
            "tags": []
          },
          "execution_count": 13
        }
      ]
    },
    {
      "cell_type": "markdown",
      "metadata": {
        "id": "1gIsAMeS7SWy"
      },
      "source": [
        "<font color=green>Note that `.linspace()` *includes* the stop value. To obtain an array of common fractions, increase the number of items:</font>"
      ]
    },
    {
      "cell_type": "code",
      "metadata": {
        "id": "MY-7YCfv7SWy",
        "colab": {
          "base_uri": "https://localhost:8080/"
        },
        "outputId": "1fe46b9d-228d-4368-aab6-1878de3b3767"
      },
      "source": [
        "np.linspace(0,5,21)"
      ],
      "execution_count": null,
      "outputs": [
        {
          "output_type": "execute_result",
          "data": {
            "text/plain": [
              "array([0.  , 0.25, 0.5 , 0.75, 1.  , 1.25, 1.5 , 1.75, 2.  , 2.25, 2.5 ,\n",
              "       2.75, 3.  , 3.25, 3.5 , 3.75, 4.  , 4.25, 4.5 , 4.75, 5.  ])"
            ]
          },
          "metadata": {
            "tags": []
          },
          "execution_count": 14
        }
      ]
    },
    {
      "cell_type": "markdown",
      "metadata": {
        "id": "-wJnJMJN7SWy"
      },
      "source": [
        "---\n",
        "#### eye\n",
        "\n",
        "Creates an identity matrix [[reference](https://docs.scipy.org/doc/numpy-1.15.0/reference/generated/numpy.eye.html)]"
      ]
    },
    {
      "cell_type": "code",
      "metadata": {
        "id": "fT80PTUz7SW1",
        "colab": {
          "base_uri": "https://localhost:8080/"
        },
        "outputId": "f75f0d67-22fa-40d2-8660-62870b2132a9"
      },
      "source": [
        "np.eye(4)"
      ],
      "execution_count": null,
      "outputs": [
        {
          "output_type": "execute_result",
          "data": {
            "text/plain": [
              "array([[1., 0., 0., 0.],\n",
              "       [0., 1., 0., 0.],\n",
              "       [0., 0., 1., 0.],\n",
              "       [0., 0., 0., 1.]])"
            ]
          },
          "metadata": {
            "tags": []
          },
          "execution_count": 15
        }
      ]
    },
    {
      "cell_type": "markdown",
      "metadata": {
        "id": "9Mb10njTRMgw"
      },
      "source": [
        "---"
      ]
    },
    {
      "cell_type": "markdown",
      "metadata": {
        "id": "Lm1mXr7Z7SW2"
      },
      "source": [
        "\n",
        "### c. Random \n",
        "Numpy also has lots of ways to create random number arrays:\n",
        "\n"
      ]
    },
    {
      "cell_type": "markdown",
      "metadata": {
        "id": "zz_m62U1Rcef"
      },
      "source": [
        "#### rand\n",
        "Creates an array of the given shape and populates it with random samples from a `uniform distribution` over ``[0, 1)``. [[reference](https://docs.scipy.org/doc/numpy-1.15.0/reference/generated/numpy.random.rand.html)]"
      ]
    },
    {
      "cell_type": "code",
      "metadata": {
        "id": "JQmXnyoA7SW2",
        "colab": {
          "base_uri": "https://localhost:8080/"
        },
        "outputId": "524b9278-ded3-42d5-df59-fd82a8dc1b69"
      },
      "source": [
        "np.random.rand(2)"
      ],
      "execution_count": null,
      "outputs": [
        {
          "output_type": "execute_result",
          "data": {
            "text/plain": [
              "array([0.20251317, 0.37054124])"
            ]
          },
          "metadata": {
            "tags": []
          },
          "execution_count": 16
        }
      ]
    },
    {
      "cell_type": "code",
      "metadata": {
        "id": "viZE16YE7SW4",
        "colab": {
          "base_uri": "https://localhost:8080/"
        },
        "outputId": "78f5349f-facd-403c-b671-7fadbd2ba702"
      },
      "source": [
        "np.random.rand(5,5)"
      ],
      "execution_count": null,
      "outputs": [
        {
          "output_type": "execute_result",
          "data": {
            "text/plain": [
              "array([[0.30496521, 0.54243288, 0.52832472, 0.73364063, 0.34151927],\n",
              "       [0.92479743, 0.23891247, 0.44028714, 0.2747358 , 0.18553341],\n",
              "       [0.8283216 , 0.38941776, 0.1815841 , 0.63502475, 0.38993642],\n",
              "       [0.83982558, 0.43654472, 0.20460495, 0.30578685, 0.0120545 ],\n",
              "       [0.68400973, 0.1984848 , 0.68682203, 0.62412285, 0.16316635]])"
            ]
          },
          "metadata": {
            "tags": []
          },
          "execution_count": 17
        }
      ]
    },
    {
      "cell_type": "markdown",
      "metadata": {
        "id": "YJzUJ5Lv7SW4"
      },
      "source": [
        "---\n",
        "#### randn\n",
        "\n",
        "Returns a sample (or samples) from the `\"standard normal\" distribution` [mean = 0, σ = 1, std = 1]. Unlike **rand** which is uniform, `values closer to zero` are more likely to appear. [[reference](https://docs.scipy.org/doc/numpy-1.15.0/reference/generated/numpy.random.randn.html)]"
      ]
    },
    {
      "cell_type": "code",
      "metadata": {
        "id": "vcYyowXy7SW5",
        "colab": {
          "base_uri": "https://localhost:8080/"
        },
        "outputId": "7a2af7a8-8f1d-4e7f-cb16-ca3d2fbf7088"
      },
      "source": [
        "np.random.randn(2)"
      ],
      "execution_count": null,
      "outputs": [
        {
          "output_type": "execute_result",
          "data": {
            "text/plain": [
              "array([0.53585215, 0.04522258])"
            ]
          },
          "metadata": {
            "tags": []
          },
          "execution_count": 18
        }
      ]
    },
    {
      "cell_type": "code",
      "metadata": {
        "id": "b6ykyohr7SW7",
        "colab": {
          "base_uri": "https://localhost:8080/"
        },
        "outputId": "267d990f-6bc4-42ce-e68d-8d6ff2f70f65"
      },
      "source": [
        "np.random.randn(5,5)"
      ],
      "execution_count": null,
      "outputs": [
        {
          "output_type": "execute_result",
          "data": {
            "text/plain": [
              "array([[ 0.01144831,  0.23714375, -0.81260801, -1.03491288, -0.38124802],\n",
              "       [-0.67919065, -2.32306235, -1.18257197, -1.61581913,  0.18777583],\n",
              "       [-0.7699985 , -0.32683143, -0.09361462, -1.14890152,  0.01121789],\n",
              "       [ 0.34316663, -0.53454951, -1.20720624,  0.3877505 ,  1.03195176],\n",
              "       [-1.636672  ,  2.91909164, -0.45927951,  1.02391046, -0.68997718]])"
            ]
          },
          "metadata": {
            "tags": []
          },
          "execution_count": 19
        }
      ]
    },
    {
      "cell_type": "markdown",
      "metadata": {
        "id": "IqB2BDgaQ6Kc"
      },
      "source": [
        "---\n",
        "#### normal\n",
        "\n",
        "`numpy.random.normal(loc = 0.0, scale = 1.0, size = None)`.\n",
        "\n",
        "Creates an array of specified shape and fills it with random values which is actually a part of `Normal(Gaussian)Distribution`. This is `Distribution` is also known as `Bell Curve` because of its `characteristics` shape."
      ]
    },
    {
      "cell_type": "code",
      "metadata": {
        "colab": {
          "base_uri": "https://localhost:8080/"
        },
        "id": "hNpeiXV3Q4mT",
        "outputId": "74d3ce2d-4e8d-4020-af2a-a72f7f5e1f9d"
      },
      "source": [
        "# 1D Array \n",
        "np.random.normal(0.0, 1.0, 5) "
      ],
      "execution_count": null,
      "outputs": [
        {
          "output_type": "execute_result",
          "data": {
            "text/plain": [
              "array([ 0.89777693,  1.05652182, -0.78829452, -0.48306341, -0.11531182])"
            ]
          },
          "metadata": {
            "tags": []
          },
          "execution_count": 20
        }
      ]
    },
    {
      "cell_type": "code",
      "metadata": {
        "colab": {
          "base_uri": "https://localhost:8080/"
        },
        "id": "B5MVpUStRZmN",
        "outputId": "82314b33-3562-443e-c192-7f6a60a919dd"
      },
      "source": [
        "# 2D array\n",
        "np.random.normal(0.0, 1.0, (2,2)) "
      ],
      "execution_count": null,
      "outputs": [
        {
          "output_type": "execute_result",
          "data": {
            "text/plain": [
              "array([[-0.00552786, -0.22945045],\n",
              "       [ 0.38934891, -1.26511911]])"
            ]
          },
          "metadata": {
            "tags": []
          },
          "execution_count": 123
        }
      ]
    },
    {
      "cell_type": "markdown",
      "metadata": {
        "id": "MTWWnwOy7SW7"
      },
      "source": [
        "---\n",
        "#### randint\n",
        "Returns random integers from `low` (inclusive) to `high` (exclusive).  [[reference](https://docs.scipy.org/doc/numpy-1.15.0/reference/generated/numpy.random.randint.html)]"
      ]
    },
    {
      "cell_type": "code",
      "metadata": {
        "id": "dpi-4t9D7SW7",
        "colab": {
          "base_uri": "https://localhost:8080/"
        },
        "outputId": "db5f0592-4ce0-4070-a224-403d0c1d983b"
      },
      "source": [
        "np.random.randint(1,100)"
      ],
      "execution_count": null,
      "outputs": [
        {
          "output_type": "execute_result",
          "data": {
            "text/plain": [
              "78"
            ]
          },
          "metadata": {
            "tags": []
          },
          "execution_count": 22
        }
      ]
    },
    {
      "cell_type": "code",
      "metadata": {
        "id": "GjgAfVf97SW8",
        "colab": {
          "base_uri": "https://localhost:8080/"
        },
        "outputId": "5fc00344-b45b-4537-e38d-6c78609f4b82"
      },
      "source": [
        "np.random.randint(1,100,10)"
      ],
      "execution_count": null,
      "outputs": [
        {
          "output_type": "execute_result",
          "data": {
            "text/plain": [
              "array([99, 61, 15, 41, 17, 44, 20, 15, 20, 72])"
            ]
          },
          "metadata": {
            "tags": []
          },
          "execution_count": 23
        }
      ]
    },
    {
      "cell_type": "markdown",
      "metadata": {
        "id": "QuchtfxH7SW9"
      },
      "source": [
        "---\n",
        "#### seed\n",
        "Can be used to set the random state, so that the same \"random\" results can be reproduced. [[reference](https://docs.scipy.org/doc/numpy-1.15.0/reference/generated/numpy.random.seed.html)]"
      ]
    },
    {
      "cell_type": "code",
      "metadata": {
        "id": "a0QkoCdy7SW-",
        "colab": {
          "base_uri": "https://localhost:8080/"
        },
        "outputId": "1d82e6ec-71c3-43f5-d75c-0b6e9e24c9ca"
      },
      "source": [
        "np.random.seed(42)\n",
        "np.random.rand(4)"
      ],
      "execution_count": null,
      "outputs": [
        {
          "output_type": "execute_result",
          "data": {
            "text/plain": [
              "array([0.37454012, 0.95071431, 0.73199394, 0.59865848])"
            ]
          },
          "metadata": {
            "tags": []
          },
          "execution_count": 24
        }
      ]
    },
    {
      "cell_type": "code",
      "metadata": {
        "id": "V0QxY1xc7SW_",
        "colab": {
          "base_uri": "https://localhost:8080/"
        },
        "outputId": "560beb3c-f893-4e01-da7f-3d2d9b494041"
      },
      "source": [
        "np.random.seed(42)\n",
        "np.random.rand(4)"
      ],
      "execution_count": null,
      "outputs": [
        {
          "output_type": "execute_result",
          "data": {
            "text/plain": [
              "array([0.37454012, 0.95071431, 0.73199394, 0.59865848])"
            ]
          },
          "metadata": {
            "tags": []
          },
          "execution_count": 25
        }
      ]
    },
    {
      "cell_type": "markdown",
      "metadata": {
        "id": "XiMYmIubReQN"
      },
      "source": [
        "---"
      ]
    },
    {
      "cell_type": "markdown",
      "metadata": {
        "id": "b_z_I76B7SXA"
      },
      "source": [
        "### d. Array Attributes and Methods\n",
        "\n",
        "Let's discuss some useful attributes and methods for an array:"
      ]
    },
    {
      "cell_type": "code",
      "metadata": {
        "collapsed": true,
        "id": "iiaxwwSX7SXA"
      },
      "source": [
        "arr = np.arange(25)\n",
        "ranarr = np.random.randint(0,50,10)"
      ],
      "execution_count": null,
      "outputs": []
    },
    {
      "cell_type": "code",
      "metadata": {
        "id": "elK71_vf7SXA",
        "colab": {
          "base_uri": "https://localhost:8080/"
        },
        "outputId": "187fb3cf-f37e-4541-e4bc-980534b9bba4"
      },
      "source": [
        "arr"
      ],
      "execution_count": null,
      "outputs": [
        {
          "output_type": "execute_result",
          "data": {
            "text/plain": [
              "array([ 0,  1,  2,  3,  4,  5,  6,  7,  8,  9, 10, 11, 12, 13, 14, 15, 16,\n",
              "       17, 18, 19, 20, 21, 22, 23, 24])"
            ]
          },
          "metadata": {
            "tags": []
          },
          "execution_count": 27
        }
      ]
    },
    {
      "cell_type": "code",
      "metadata": {
        "id": "Uig9XSfy7SXB",
        "colab": {
          "base_uri": "https://localhost:8080/"
        },
        "outputId": "039566ae-2180-4d94-8a15-b5feacde4173"
      },
      "source": [
        "ranarr"
      ],
      "execution_count": null,
      "outputs": [
        {
          "output_type": "execute_result",
          "data": {
            "text/plain": [
              "array([38, 18, 22, 10, 10, 23, 35, 39, 23,  2])"
            ]
          },
          "metadata": {
            "tags": []
          },
          "execution_count": 28
        }
      ]
    },
    {
      "cell_type": "markdown",
      "metadata": {
        "id": "SzwqDlVs7SXC"
      },
      "source": [
        "---\n",
        "#### Reshape\n",
        "**Methods**\n",
        "\n",
        "Returns an array containing the same data with a new shape. [[reference](https://docs.scipy.org/doc/numpy-1.15.0/reference/generated/numpy.reshape.html)]"
      ]
    },
    {
      "cell_type": "code",
      "metadata": {
        "id": "iBhg-Ajd7SXD",
        "colab": {
          "base_uri": "https://localhost:8080/"
        },
        "outputId": "c2b9715d-1ec6-4d04-8530-2d1551a4576f"
      },
      "source": [
        "arr = np.arange(25)\n",
        "# arr.reshape(5,4) -> Akan error karena arr memiliki 25 data sedangkan matrix 5x4 hanya memilki 20 spaces \n",
        "arr.reshape(5,5)"
      ],
      "execution_count": null,
      "outputs": [
        {
          "output_type": "execute_result",
          "data": {
            "text/plain": [
              "array([[ 0,  1,  2,  3,  4],\n",
              "       [ 5,  6,  7,  8,  9],\n",
              "       [10, 11, 12, 13, 14],\n",
              "       [15, 16, 17, 18, 19],\n",
              "       [20, 21, 22, 23, 24]])"
            ]
          },
          "metadata": {
            "tags": []
          },
          "execution_count": 29
        }
      ]
    },
    {
      "cell_type": "markdown",
      "metadata": {
        "id": "dCOlS1ka7SXE"
      },
      "source": [
        "---\n",
        "#### max, min, argmax, argmin\n",
        "**Methods**\n",
        "\n",
        "These are useful methods for finding max or min values. Or to find their index locations using argmin or argmax"
      ]
    },
    {
      "cell_type": "code",
      "metadata": {
        "id": "45wVg8Ya7SXG",
        "colab": {
          "base_uri": "https://localhost:8080/"
        },
        "outputId": "dec36bac-b7ba-44b3-e6d5-36d0ac44f01b"
      },
      "source": [
        "ranarr"
      ],
      "execution_count": null,
      "outputs": [
        {
          "output_type": "execute_result",
          "data": {
            "text/plain": [
              "array([38, 18, 22, 10, 10, 23, 35, 39, 23,  2])"
            ]
          },
          "metadata": {
            "tags": []
          },
          "execution_count": 30
        }
      ]
    },
    {
      "cell_type": "code",
      "metadata": {
        "id": "8y0bfG097SXI",
        "colab": {
          "base_uri": "https://localhost:8080/"
        },
        "outputId": "619cd7c3-454d-492c-d098-16a0650d31d4"
      },
      "source": [
        "ranarr.max()"
      ],
      "execution_count": null,
      "outputs": [
        {
          "output_type": "execute_result",
          "data": {
            "text/plain": [
              "39"
            ]
          },
          "metadata": {
            "tags": []
          },
          "execution_count": 31
        }
      ]
    },
    {
      "cell_type": "code",
      "metadata": {
        "id": "nzPD8ZYz7SXJ",
        "colab": {
          "base_uri": "https://localhost:8080/"
        },
        "outputId": "702f10f3-920a-449d-c516-619c182a084c"
      },
      "source": [
        "ranarr.argmax()"
      ],
      "execution_count": null,
      "outputs": [
        {
          "output_type": "execute_result",
          "data": {
            "text/plain": [
              "7"
            ]
          },
          "metadata": {
            "tags": []
          },
          "execution_count": 32
        }
      ]
    },
    {
      "cell_type": "code",
      "metadata": {
        "id": "DKOFXAf57SXJ",
        "colab": {
          "base_uri": "https://localhost:8080/"
        },
        "outputId": "0323de93-4dbe-47ca-c79c-f32d83209a7c"
      },
      "source": [
        "ranarr.min()"
      ],
      "execution_count": null,
      "outputs": [
        {
          "output_type": "execute_result",
          "data": {
            "text/plain": [
              "2"
            ]
          },
          "metadata": {
            "tags": []
          },
          "execution_count": 33
        }
      ]
    },
    {
      "cell_type": "code",
      "metadata": {
        "id": "53LZuhtT7SXL",
        "colab": {
          "base_uri": "https://localhost:8080/"
        },
        "outputId": "f6a4ebd9-70b8-43da-f415-d912360887ce"
      },
      "source": [
        "ranarr.argmin()"
      ],
      "execution_count": null,
      "outputs": [
        {
          "output_type": "execute_result",
          "data": {
            "text/plain": [
              "9"
            ]
          },
          "metadata": {
            "tags": []
          },
          "execution_count": 34
        }
      ]
    },
    {
      "cell_type": "markdown",
      "metadata": {
        "id": "9KGoYD657SXL"
      },
      "source": [
        "---\n",
        "#### Shape\n",
        "**Attribute**\n",
        "\n",
        "Shape is an attribute that arrays have (not a method):  [[reference](https://docs.scipy.org/doc/numpy-1.15.0/reference/generated/numpy.ndarray.shape.html)]"
      ]
    },
    {
      "cell_type": "code",
      "metadata": {
        "id": "Uaokt5zs7SXM",
        "colab": {
          "base_uri": "https://localhost:8080/"
        },
        "outputId": "dd88ca59-99c2-48a4-f45d-7f461acaf494"
      },
      "source": [
        "# Vector\n",
        "arr.shape # 1D array"
      ],
      "execution_count": null,
      "outputs": [
        {
          "output_type": "execute_result",
          "data": {
            "text/plain": [
              "(25,)"
            ]
          },
          "metadata": {
            "tags": []
          },
          "execution_count": 35
        }
      ]
    },
    {
      "cell_type": "code",
      "metadata": {
        "id": "jbz91mIA7SXM",
        "colab": {
          "base_uri": "https://localhost:8080/"
        },
        "outputId": "e32f8e2d-fa09-4bf9-e4e1-7c2cb8397ab0"
      },
      "source": [
        "# Notice the two sets of brackets\n",
        "arr.reshape(1,25) "
      ],
      "execution_count": null,
      "outputs": [
        {
          "output_type": "execute_result",
          "data": {
            "text/plain": [
              "array([[ 0,  1,  2,  3,  4,  5,  6,  7,  8,  9, 10, 11, 12, 13, 14, 15,\n",
              "        16, 17, 18, 19, 20, 21, 22, 23, 24]])"
            ]
          },
          "metadata": {
            "tags": []
          },
          "execution_count": 36
        }
      ]
    },
    {
      "cell_type": "code",
      "metadata": {
        "id": "UhJg_GSI7SXN",
        "colab": {
          "base_uri": "https://localhost:8080/"
        },
        "outputId": "a8bfec21-0f3b-443e-9bb7-6fb1b8ad0217"
      },
      "source": [
        "arr.reshape(1,25).shape # 2D array"
      ],
      "execution_count": null,
      "outputs": [
        {
          "output_type": "execute_result",
          "data": {
            "text/plain": [
              "(1, 25)"
            ]
          },
          "metadata": {
            "tags": []
          },
          "execution_count": 37
        }
      ]
    },
    {
      "cell_type": "code",
      "metadata": {
        "id": "mQ7acxMH7SXO",
        "colab": {
          "base_uri": "https://localhost:8080/"
        },
        "outputId": "085c64fa-5c2a-4c30-d871-e48d13871249"
      },
      "source": [
        "arr.reshape(25,1)"
      ],
      "execution_count": null,
      "outputs": [
        {
          "output_type": "execute_result",
          "data": {
            "text/plain": [
              "array([[ 0],\n",
              "       [ 1],\n",
              "       [ 2],\n",
              "       [ 3],\n",
              "       [ 4],\n",
              "       [ 5],\n",
              "       [ 6],\n",
              "       [ 7],\n",
              "       [ 8],\n",
              "       [ 9],\n",
              "       [10],\n",
              "       [11],\n",
              "       [12],\n",
              "       [13],\n",
              "       [14],\n",
              "       [15],\n",
              "       [16],\n",
              "       [17],\n",
              "       [18],\n",
              "       [19],\n",
              "       [20],\n",
              "       [21],\n",
              "       [22],\n",
              "       [23],\n",
              "       [24]])"
            ]
          },
          "metadata": {
            "tags": []
          },
          "execution_count": 38
        }
      ]
    },
    {
      "cell_type": "code",
      "metadata": {
        "id": "CpCaSVNS7SXO",
        "colab": {
          "base_uri": "https://localhost:8080/"
        },
        "outputId": "112a2691-24e1-4e99-b706-282ea2cd8b01"
      },
      "source": [
        "arr.reshape(25,1).shape # 2D array"
      ],
      "execution_count": null,
      "outputs": [
        {
          "output_type": "execute_result",
          "data": {
            "text/plain": [
              "(25, 1)"
            ]
          },
          "metadata": {
            "tags": []
          },
          "execution_count": 39
        }
      ]
    },
    {
      "cell_type": "markdown",
      "metadata": {
        "id": "rlxEU48R7SXP"
      },
      "source": [
        "---\n",
        "#### dtype\n",
        "**Attribute**\n",
        "\n",
        "You can also grab the data type of the object in the array: [[reference](https://docs.scipy.org/doc/numpy-1.15.0/reference/generated/numpy.ndarray.dtype.html)]"
      ]
    },
    {
      "cell_type": "code",
      "metadata": {
        "id": "0XdsUk-z7SXR",
        "colab": {
          "base_uri": "https://localhost:8080/"
        },
        "outputId": "b37d0ffc-9572-4536-e785-0532dd9f2133"
      },
      "source": [
        "arr2 = np.array([1.2, 3.4, 5.6])\n",
        "arr2.dtype"
      ],
      "execution_count": null,
      "outputs": [
        {
          "output_type": "execute_result",
          "data": {
            "text/plain": [
              "dtype('float64')"
            ]
          },
          "metadata": {
            "tags": []
          },
          "execution_count": 40
        }
      ]
    },
    {
      "cell_type": "markdown",
      "metadata": {
        "id": "M0HEMFa8RosS"
      },
      "source": [
        "---"
      ]
    },
    {
      "cell_type": "markdown",
      "metadata": {
        "id": "mXUZ3Sh5nUxK"
      },
      "source": [
        "## B. NumPy Indexing and Selection\n",
        "\n",
        "In this lecture we will discuss how to select elements or groups of elements from an array."
      ]
    },
    {
      "cell_type": "code",
      "metadata": {
        "collapsed": true,
        "id": "borSqMfznUxO"
      },
      "source": [
        "#Creating sample array\n",
        "import numpy as np\n",
        "arr = np.arange(0,11)"
      ],
      "execution_count": null,
      "outputs": []
    },
    {
      "cell_type": "code",
      "metadata": {
        "id": "VKlvrZTJnUxP",
        "colab": {
          "base_uri": "https://localhost:8080/"
        },
        "outputId": "c588a515-d236-4c13-ecde-0780ed7d9015"
      },
      "source": [
        "#Show\n",
        "arr"
      ],
      "execution_count": null,
      "outputs": [
        {
          "output_type": "execute_result",
          "data": {
            "text/plain": [
              "array([ 0,  1,  2,  3,  4,  5,  6,  7,  8,  9, 10])"
            ]
          },
          "metadata": {
            "tags": []
          },
          "execution_count": 42
        }
      ]
    },
    {
      "cell_type": "markdown",
      "metadata": {
        "id": "fK6tXO67RuR0"
      },
      "source": [
        "---"
      ]
    },
    {
      "cell_type": "markdown",
      "metadata": {
        "id": "8SxN3dIbnUxR"
      },
      "source": [
        "### a. Bracket Indexing and Selection\n",
        "The simplest way to pick one or some elements of an array looks very similar to python lists:"
      ]
    },
    {
      "cell_type": "code",
      "metadata": {
        "id": "R9jMXMqenUxS",
        "colab": {
          "base_uri": "https://localhost:8080/"
        },
        "outputId": "d459237c-9d6b-4512-b38d-6fc2fbd6d953"
      },
      "source": [
        "#Get a value at an index\n",
        "arr[8]"
      ],
      "execution_count": null,
      "outputs": [
        {
          "output_type": "execute_result",
          "data": {
            "text/plain": [
              "8"
            ]
          },
          "metadata": {
            "tags": []
          },
          "execution_count": 43
        }
      ]
    },
    {
      "cell_type": "code",
      "metadata": {
        "id": "mgcZkaK5nUxS",
        "colab": {
          "base_uri": "https://localhost:8080/"
        },
        "outputId": "f917fd52-4f4e-46ba-f69b-892cd4aecc79"
      },
      "source": [
        "#Get values in a range\n",
        "arr[1:5]"
      ],
      "execution_count": null,
      "outputs": [
        {
          "output_type": "execute_result",
          "data": {
            "text/plain": [
              "array([1, 2, 3, 4])"
            ]
          },
          "metadata": {
            "tags": []
          },
          "execution_count": 44
        }
      ]
    },
    {
      "cell_type": "code",
      "metadata": {
        "id": "5LIRLBdxnUxU",
        "colab": {
          "base_uri": "https://localhost:8080/"
        },
        "outputId": "2d1a04e8-3d08-4362-da49-9ec506fc0130"
      },
      "source": [
        "#Get values in a range\n",
        "arr[0:5]"
      ],
      "execution_count": null,
      "outputs": [
        {
          "output_type": "execute_result",
          "data": {
            "text/plain": [
              "array([0, 1, 2, 3, 4])"
            ]
          },
          "metadata": {
            "tags": []
          },
          "execution_count": 45
        }
      ]
    },
    {
      "cell_type": "markdown",
      "metadata": {
        "id": "vRKdVYUCRzWM"
      },
      "source": [
        "---"
      ]
    },
    {
      "cell_type": "markdown",
      "metadata": {
        "id": "cdcROJlInUxV"
      },
      "source": [
        "### b. Broadcasting\n",
        "\n",
        "NumPy arrays `differ` from normal Python lists because of their ability to broadcast. With lists, you can only reassign parts of a list with new parts of the same size and shape. \n",
        "\n",
        "That is, if you `wanted` to `replace` the first 5 elements in a list with a new value, you would have to pass in a new 5 element list. With NumPy `arrays`, you can broadcast a `single` value across a larger set of values:"
      ]
    },
    {
      "cell_type": "code",
      "metadata": {
        "id": "fECUrRZ9nUxW",
        "colab": {
          "base_uri": "https://localhost:8080/"
        },
        "outputId": "bf6da2d2-3384-4e8a-bcaa-afe374e64f32"
      },
      "source": [
        "#Setting a value with index range (Broadcasting)\n",
        "arr = np.arange(0,11)\n",
        "arr[0:5]=100\n",
        "\n",
        "#Show\n",
        "arr"
      ],
      "execution_count": null,
      "outputs": [
        {
          "output_type": "execute_result",
          "data": {
            "text/plain": [
              "array([100, 100, 100, 100, 100,   5,   6,   7,   8,   9,  10])"
            ]
          },
          "metadata": {
            "tags": []
          },
          "execution_count": 46
        }
      ]
    },
    {
      "cell_type": "code",
      "metadata": {
        "id": "OHg3rOUAnUxY",
        "colab": {
          "base_uri": "https://localhost:8080/"
        },
        "outputId": "428d702b-5e15-4678-a470-7e654361d56c"
      },
      "source": [
        "# Reset array, we'll see why I had to reset in  a moment\n",
        "arr = np.arange(0,11)\n",
        "\n",
        "#Show\n",
        "arr"
      ],
      "execution_count": null,
      "outputs": [
        {
          "output_type": "execute_result",
          "data": {
            "text/plain": [
              "array([ 0,  1,  2,  3,  4,  5,  6,  7,  8,  9, 10])"
            ]
          },
          "metadata": {
            "tags": []
          },
          "execution_count": 47
        }
      ]
    },
    {
      "cell_type": "code",
      "metadata": {
        "id": "-sP22IgRnUxY",
        "colab": {
          "base_uri": "https://localhost:8080/"
        },
        "outputId": "0dbaebca-88a4-4d72-e5b2-c3bd5bbc6388"
      },
      "source": [
        "#Important notes on Slices\n",
        "slice_of_arr = arr[0:6]\n",
        "\n",
        "#Show slice\n",
        "slice_of_arr"
      ],
      "execution_count": null,
      "outputs": [
        {
          "output_type": "execute_result",
          "data": {
            "text/plain": [
              "array([0, 1, 2, 3, 4, 5])"
            ]
          },
          "metadata": {
            "tags": []
          },
          "execution_count": 48
        }
      ]
    },
    {
      "cell_type": "code",
      "metadata": {
        "id": "xWOU6j5hnUxZ",
        "colab": {
          "base_uri": "https://localhost:8080/"
        },
        "outputId": "fe2d29b4-e33a-4733-e359-c9456c4d76dd"
      },
      "source": [
        "#Change Slice\n",
        "slice_of_arr[:]=99\n",
        "\n",
        "#Show Slice again\n",
        "slice_of_arr"
      ],
      "execution_count": null,
      "outputs": [
        {
          "output_type": "execute_result",
          "data": {
            "text/plain": [
              "array([99, 99, 99, 99, 99, 99])"
            ]
          },
          "metadata": {
            "tags": []
          },
          "execution_count": 49
        }
      ]
    },
    {
      "cell_type": "markdown",
      "metadata": {
        "id": "SvyCBOwJnUxZ"
      },
      "source": [
        "Now note the changes also occur in our original array!"
      ]
    },
    {
      "cell_type": "code",
      "metadata": {
        "id": "UPuSw4eEnUxa",
        "colab": {
          "base_uri": "https://localhost:8080/"
        },
        "outputId": "6a9513f2-c447-4736-f41d-acbafa245a32"
      },
      "source": [
        "arr"
      ],
      "execution_count": null,
      "outputs": [
        {
          "output_type": "execute_result",
          "data": {
            "text/plain": [
              "array([99, 99, 99, 99, 99, 99,  6,  7,  8,  9, 10])"
            ]
          },
          "metadata": {
            "tags": []
          },
          "execution_count": 50
        }
      ]
    },
    {
      "cell_type": "markdown",
      "metadata": {
        "id": "m5W3kAmZnUxc"
      },
      "source": [
        "---\n",
        "#### Copy Array\n",
        "Data is not copied, it's a view of the original array! This avoids memory problems!"
      ]
    },
    {
      "cell_type": "code",
      "metadata": {
        "id": "AMfkhg7EnUxc",
        "colab": {
          "base_uri": "https://localhost:8080/"
        },
        "outputId": "f8310864-448f-406c-f551-84b234c586d6"
      },
      "source": [
        "#To get a copy, need to be explicit\n",
        "arr_copy = arr.copy()\n",
        "\n",
        "arr_copy"
      ],
      "execution_count": null,
      "outputs": [
        {
          "output_type": "execute_result",
          "data": {
            "text/plain": [
              "array([99, 99, 99, 99, 99, 99,  6,  7,  8,  9, 10])"
            ]
          },
          "metadata": {
            "tags": []
          },
          "execution_count": 51
        }
      ]
    },
    {
      "cell_type": "markdown",
      "metadata": {
        "id": "ZTMAOCCGR7y-"
      },
      "source": [
        "---"
      ]
    },
    {
      "cell_type": "markdown",
      "metadata": {
        "id": "sNVIdqDMnUxe"
      },
      "source": [
        "### c. Indexing a 2D array (matrices)\n",
        "\n",
        "The general format is **`arr_2d[row][col]`** or **`arr_2d[row,col]`**. \n",
        "\n",
        "Recommend using the comma notation for clarity."
      ]
    },
    {
      "cell_type": "code",
      "metadata": {
        "id": "Po0J1olSnUxe",
        "colab": {
          "base_uri": "https://localhost:8080/"
        },
        "outputId": "d67f02a5-1cfe-426e-cea3-7ae363b247b1"
      },
      "source": [
        "import numpy as np\n",
        "arr_2d = np.array([[5,10,15],[20,25,30],[35,40,45]])\n",
        "\n",
        "#Show\n",
        "arr_2d"
      ],
      "execution_count": null,
      "outputs": [
        {
          "output_type": "execute_result",
          "data": {
            "text/plain": [
              "array([[ 5, 10, 15],\n",
              "       [20, 25, 30],\n",
              "       [35, 40, 45]])"
            ]
          },
          "metadata": {
            "tags": []
          },
          "execution_count": 52
        }
      ]
    },
    {
      "cell_type": "code",
      "metadata": {
        "id": "bDCtl_TRnUxf",
        "colab": {
          "base_uri": "https://localhost:8080/"
        },
        "outputId": "8eac04cd-3b0c-447f-e1d2-5763b9d7e5f6"
      },
      "source": [
        "print(f'{arr_2d}\\n')\n",
        "\n",
        "#Indexing row\n",
        "arr_2d[1] #[row]"
      ],
      "execution_count": null,
      "outputs": [
        {
          "output_type": "stream",
          "text": [
            "[[ 5 10 15]\n",
            " [20 25 30]\n",
            " [35 40 45]]\n",
            "\n"
          ],
          "name": "stdout"
        },
        {
          "output_type": "execute_result",
          "data": {
            "text/plain": [
              "array([20, 25, 30])"
            ]
          },
          "metadata": {
            "tags": []
          },
          "execution_count": 53
        }
      ]
    },
    {
      "cell_type": "code",
      "metadata": {
        "id": "qtZWTbyanUxh",
        "colab": {
          "base_uri": "https://localhost:8080/"
        },
        "outputId": "e5523844-4726-4bd3-d649-5c55608e32ab"
      },
      "source": [
        "print(f'{arr_2d}\\n')\n",
        "# Format is arr_2d[row][col] or arr_2d[row,col]\n",
        "\n",
        "# Getting individual element value\n",
        "arr_2d[1][0]"
      ],
      "execution_count": null,
      "outputs": [
        {
          "output_type": "stream",
          "text": [
            "[[ 5 10 15]\n",
            " [20 25 30]\n",
            " [35 40 45]]\n",
            "\n"
          ],
          "name": "stdout"
        },
        {
          "output_type": "execute_result",
          "data": {
            "text/plain": [
              "20"
            ]
          },
          "metadata": {
            "tags": []
          },
          "execution_count": 54
        }
      ]
    },
    {
      "cell_type": "code",
      "metadata": {
        "id": "MUnw5gdfnUxh",
        "colab": {
          "base_uri": "https://localhost:8080/"
        },
        "outputId": "3514cc47-6222-4d90-d998-e581feb5b331"
      },
      "source": [
        "print(f'{arr_2d}\\n')\n",
        "# Getting individual element value\n",
        "arr_2d[1,0]"
      ],
      "execution_count": null,
      "outputs": [
        {
          "output_type": "stream",
          "text": [
            "[[ 5 10 15]\n",
            " [20 25 30]\n",
            " [35 40 45]]\n",
            "\n"
          ],
          "name": "stdout"
        },
        {
          "output_type": "execute_result",
          "data": {
            "text/plain": [
              "20"
            ]
          },
          "metadata": {
            "tags": []
          },
          "execution_count": 55
        }
      ]
    },
    {
      "cell_type": "code",
      "metadata": {
        "id": "uqthJdBhnUxh",
        "colab": {
          "base_uri": "https://localhost:8080/"
        },
        "outputId": "509e8fb3-2046-4723-a173-b30d940d418e"
      },
      "source": [
        "print(f'{arr_2d}\\n')\n",
        "# 2D array slicing\n",
        "\n",
        "#Shape (2,2) from top right corner\n",
        "arr_2d[:2,1:] #[row, col]"
      ],
      "execution_count": null,
      "outputs": [
        {
          "output_type": "stream",
          "text": [
            "[[ 5 10 15]\n",
            " [20 25 30]\n",
            " [35 40 45]]\n",
            "\n"
          ],
          "name": "stdout"
        },
        {
          "output_type": "execute_result",
          "data": {
            "text/plain": [
              "array([[10, 15],\n",
              "       [25, 30]])"
            ]
          },
          "metadata": {
            "tags": []
          },
          "execution_count": 56
        }
      ]
    },
    {
      "cell_type": "code",
      "metadata": {
        "id": "-k3BE_hQnUxh",
        "colab": {
          "base_uri": "https://localhost:8080/"
        },
        "outputId": "4c571fe8-dd97-49cf-bb55-f89d16ced564"
      },
      "source": [
        "#Shape bottom row\n",
        "arr_2d[2]"
      ],
      "execution_count": null,
      "outputs": [
        {
          "output_type": "execute_result",
          "data": {
            "text/plain": [
              "array([35, 40, 45])"
            ]
          },
          "metadata": {
            "tags": []
          },
          "execution_count": 57
        }
      ]
    },
    {
      "cell_type": "code",
      "metadata": {
        "id": "013CRnNinUxj",
        "colab": {
          "base_uri": "https://localhost:8080/"
        },
        "outputId": "99a4a1e8-1499-45d8-9f65-6baad853a7be"
      },
      "source": [
        "#Shape bottom row\n",
        "arr_2d[2,:]"
      ],
      "execution_count": null,
      "outputs": [
        {
          "output_type": "execute_result",
          "data": {
            "text/plain": [
              "array([35, 40, 45])"
            ]
          },
          "metadata": {
            "tags": []
          },
          "execution_count": 58
        }
      ]
    },
    {
      "cell_type": "markdown",
      "metadata": {
        "id": "as8WmOEhnUxj"
      },
      "source": [
        "---\n",
        "#### Indexing Help\n",
        "Indexing a 2D matrix can be a bit confusing at first, especially when you start to add in step size. Try google image searching *NumPy indexing* to find useful images, like this one:\n"
      ]
    },
    {
      "cell_type": "markdown",
      "metadata": {
        "id": "n4oB8aJJxEkG"
      },
      "source": [
        "![numpy_indexing.png](data:image/png;base64,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)"
      ]
    },
    {
      "cell_type": "markdown",
      "metadata": {
        "id": "uKptGNq0SHPf"
      },
      "source": [
        "---"
      ]
    },
    {
      "cell_type": "markdown",
      "metadata": {
        "id": "q59YoP5FnUxj"
      },
      "source": [
        "### d. Conditional Selection\n",
        "\n",
        "This is a very fundamental concept that will directly translate to pandas later on, make sure you understand this part!\n",
        "\n",
        "Let's briefly go over how to use brackets for selection based off of comparison operators."
      ]
    },
    {
      "cell_type": "code",
      "metadata": {
        "id": "Jp-p7JyjnUxj",
        "colab": {
          "base_uri": "https://localhost:8080/"
        },
        "outputId": "8c759acf-77dc-4f12-de5c-e2e898348fb3"
      },
      "source": [
        "arr = np.arange(1,11)\n",
        "arr"
      ],
      "execution_count": null,
      "outputs": [
        {
          "output_type": "execute_result",
          "data": {
            "text/plain": [
              "array([ 1,  2,  3,  4,  5,  6,  7,  8,  9, 10])"
            ]
          },
          "metadata": {
            "tags": []
          },
          "execution_count": 59
        }
      ]
    },
    {
      "cell_type": "code",
      "metadata": {
        "collapsed": true,
        "id": "vZHDE-lknUxk"
      },
      "source": [
        "bool_arr = arr>4"
      ],
      "execution_count": null,
      "outputs": []
    },
    {
      "cell_type": "code",
      "metadata": {
        "id": "O0fFoTVUnUxk",
        "colab": {
          "base_uri": "https://localhost:8080/"
        },
        "outputId": "14d3c168-8244-47be-a38c-cfc03b18b5b0"
      },
      "source": [
        "bool_arr"
      ],
      "execution_count": null,
      "outputs": [
        {
          "output_type": "execute_result",
          "data": {
            "text/plain": [
              "array([False, False, False, False,  True,  True,  True,  True,  True,\n",
              "        True])"
            ]
          },
          "metadata": {
            "tags": []
          },
          "execution_count": 61
        }
      ]
    },
    {
      "cell_type": "code",
      "metadata": {
        "id": "uTIiMQHLnUxk",
        "colab": {
          "base_uri": "https://localhost:8080/"
        },
        "outputId": "47b2d1f5-057e-4e2f-ce97-b3e5ac735a53"
      },
      "source": [
        "arr[bool_arr]"
      ],
      "execution_count": null,
      "outputs": [
        {
          "output_type": "execute_result",
          "data": {
            "text/plain": [
              "array([ 5,  6,  7,  8,  9, 10])"
            ]
          },
          "metadata": {
            "tags": []
          },
          "execution_count": 62
        }
      ]
    },
    {
      "cell_type": "code",
      "metadata": {
        "id": "fpwXuPslnUxl",
        "colab": {
          "base_uri": "https://localhost:8080/"
        },
        "outputId": "c6d721fd-c789-426f-93e5-f916c27e091e"
      },
      "source": [
        "arr = np.arange(1,11)\n",
        "arr[arr>2]"
      ],
      "execution_count": null,
      "outputs": [
        {
          "output_type": "execute_result",
          "data": {
            "text/plain": [
              "array([ 3,  4,  5,  6,  7,  8,  9, 10])"
            ]
          },
          "metadata": {
            "tags": []
          },
          "execution_count": 63
        }
      ]
    },
    {
      "cell_type": "code",
      "metadata": {
        "id": "0yHaiorenUxm",
        "colab": {
          "base_uri": "https://localhost:8080/"
        },
        "outputId": "bf2d442f-96eb-4b07-9507-4308a36af8db"
      },
      "source": [
        "# Total value of arr that > 2\n",
        "len(arr[arr>2])"
      ],
      "execution_count": null,
      "outputs": [
        {
          "output_type": "execute_result",
          "data": {
            "text/plain": [
              "8"
            ]
          },
          "metadata": {
            "tags": []
          },
          "execution_count": 64
        }
      ]
    },
    {
      "cell_type": "markdown",
      "metadata": {
        "id": "Jih4n3nmSKSc"
      },
      "source": [
        "---"
      ]
    },
    {
      "cell_type": "markdown",
      "metadata": {
        "collapsed": true,
        "id": "0fsSYl2X5jij"
      },
      "source": [
        "## C. NumPy Operations"
      ]
    },
    {
      "cell_type": "markdown",
      "metadata": {
        "id": "LAMXX0jF5jin"
      },
      "source": [
        "### a. Arithmetic\n",
        "\n",
        "You can easily perform *array with array* arithmetic, or *scalar with array* arithmetic. Let's see some examples:"
      ]
    },
    {
      "cell_type": "code",
      "metadata": {
        "id": "LzhtcUKG5jiu",
        "colab": {
          "base_uri": "https://localhost:8080/"
        },
        "outputId": "3d64ec1c-088b-496e-f5af-9c342b6a5b61"
      },
      "source": [
        "import numpy as np\n",
        "arr = np.arange(0,10)\n",
        "arr"
      ],
      "execution_count": null,
      "outputs": [
        {
          "output_type": "execute_result",
          "data": {
            "text/plain": [
              "array([0, 1, 2, 3, 4, 5, 6, 7, 8, 9])"
            ]
          },
          "metadata": {
            "tags": []
          },
          "execution_count": 65
        }
      ]
    },
    {
      "cell_type": "code",
      "metadata": {
        "id": "EamCu37Q5ji1",
        "colab": {
          "base_uri": "https://localhost:8080/"
        },
        "outputId": "67949845-fc54-480a-ac14-34cb3d838280"
      },
      "source": [
        "arr + arr"
      ],
      "execution_count": null,
      "outputs": [
        {
          "output_type": "execute_result",
          "data": {
            "text/plain": [
              "array([ 0,  2,  4,  6,  8, 10, 12, 14, 16, 18])"
            ]
          },
          "metadata": {
            "tags": []
          },
          "execution_count": 66
        }
      ]
    },
    {
      "cell_type": "code",
      "metadata": {
        "id": "1aGUi0VZ5ji5",
        "colab": {
          "base_uri": "https://localhost:8080/"
        },
        "outputId": "54a37877-68a5-43cb-825a-1557d403f1e8"
      },
      "source": [
        "arr * arr"
      ],
      "execution_count": null,
      "outputs": [
        {
          "output_type": "execute_result",
          "data": {
            "text/plain": [
              "array([ 0,  1,  4,  9, 16, 25, 36, 49, 64, 81])"
            ]
          },
          "metadata": {
            "tags": []
          },
          "execution_count": 67
        }
      ]
    },
    {
      "cell_type": "code",
      "metadata": {
        "id": "paTYAfxm5jjF",
        "colab": {
          "base_uri": "https://localhost:8080/"
        },
        "outputId": "2abd4934-8de3-43dd-cade-aef363aa39f9"
      },
      "source": [
        "arr - arr"
      ],
      "execution_count": null,
      "outputs": [
        {
          "output_type": "execute_result",
          "data": {
            "text/plain": [
              "array([0, 0, 0, 0, 0, 0, 0, 0, 0, 0])"
            ]
          },
          "metadata": {
            "tags": []
          },
          "execution_count": 68
        }
      ]
    },
    {
      "cell_type": "code",
      "metadata": {
        "id": "o5xeb8wX5jjN",
        "colab": {
          "base_uri": "https://localhost:8080/"
        },
        "outputId": "3f789ccb-1172-490c-a9a6-fab0f5d65cca"
      },
      "source": [
        "# This will raise a Warning on division by zero, but not an error!\n",
        "# It just fills the spot with nan\n",
        "arr/arr"
      ],
      "execution_count": null,
      "outputs": [
        {
          "output_type": "stream",
          "text": [
            "/usr/local/lib/python3.7/dist-packages/ipykernel_launcher.py:3: RuntimeWarning: invalid value encountered in true_divide\n",
            "  This is separate from the ipykernel package so we can avoid doing imports until\n"
          ],
          "name": "stderr"
        },
        {
          "output_type": "execute_result",
          "data": {
            "text/plain": [
              "array([nan,  1.,  1.,  1.,  1.,  1.,  1.,  1.,  1.,  1.])"
            ]
          },
          "metadata": {
            "tags": []
          },
          "execution_count": 69
        }
      ]
    },
    {
      "cell_type": "code",
      "metadata": {
        "id": "0oEelEDU5jjR",
        "colab": {
          "base_uri": "https://localhost:8080/"
        },
        "outputId": "4012c331-f844-4b33-fb87-c28030e9520e"
      },
      "source": [
        "# Also a warning (but not an error) relating to infinity\n",
        "1/arr"
      ],
      "execution_count": null,
      "outputs": [
        {
          "output_type": "stream",
          "text": [
            "/usr/local/lib/python3.7/dist-packages/ipykernel_launcher.py:2: RuntimeWarning: divide by zero encountered in true_divide\n",
            "  \n"
          ],
          "name": "stderr"
        },
        {
          "output_type": "execute_result",
          "data": {
            "text/plain": [
              "array([       inf, 1.        , 0.5       , 0.33333333, 0.25      ,\n",
              "       0.2       , 0.16666667, 0.14285714, 0.125     , 0.11111111])"
            ]
          },
          "metadata": {
            "tags": []
          },
          "execution_count": 70
        }
      ]
    },
    {
      "cell_type": "code",
      "metadata": {
        "id": "1gWEemCt5jjT",
        "colab": {
          "base_uri": "https://localhost:8080/"
        },
        "outputId": "f5c3dd7b-b6b0-4141-c6f0-9bb830371006"
      },
      "source": [
        "arr**3"
      ],
      "execution_count": null,
      "outputs": [
        {
          "output_type": "execute_result",
          "data": {
            "text/plain": [
              "array([  0,   1,   8,  27,  64, 125, 216, 343, 512, 729])"
            ]
          },
          "metadata": {
            "tags": []
          },
          "execution_count": 71
        }
      ]
    },
    {
      "cell_type": "markdown",
      "metadata": {
        "id": "MivORmYCSPk9"
      },
      "source": [
        "---"
      ]
    },
    {
      "cell_type": "markdown",
      "metadata": {
        "id": "IvJ9uiPQ5jjU"
      },
      "source": [
        "### b. Universal Array Functions\n",
        "\n",
        "NumPy comes with many [universal array functions](http://docs.scipy.org/doc/numpy/reference/ufuncs.html), or <em>ufuncs</em>, which are essentially just mathematical operations that can be applied across the array."
      ]
    },
    {
      "cell_type": "code",
      "metadata": {
        "id": "3xjZI9ez5jjW",
        "colab": {
          "base_uri": "https://localhost:8080/"
        },
        "outputId": "7d8b6564-7e3a-40ce-f8e1-d0b18ef52e02"
      },
      "source": [
        "import numpy as np\n",
        "arr = np.arange(0,10)\n",
        "# Taking Square Roots\n",
        "np.sqrt(arr)"
      ],
      "execution_count": null,
      "outputs": [
        {
          "output_type": "execute_result",
          "data": {
            "text/plain": [
              "array([0.        , 1.        , 1.41421356, 1.73205081, 2.        ,\n",
              "       2.23606798, 2.44948974, 2.64575131, 2.82842712, 3.        ])"
            ]
          },
          "metadata": {
            "tags": []
          },
          "execution_count": 72
        }
      ]
    },
    {
      "cell_type": "code",
      "metadata": {
        "id": "dcLEqyAo5jjX",
        "colab": {
          "base_uri": "https://localhost:8080/"
        },
        "outputId": "33710e20-0000-4b6c-fb3b-2b0e4d7f1484"
      },
      "source": [
        "# Calculating exponential (e^)\n",
        "np.exp(arr)"
      ],
      "execution_count": null,
      "outputs": [
        {
          "output_type": "execute_result",
          "data": {
            "text/plain": [
              "array([1.00000000e+00, 2.71828183e+00, 7.38905610e+00, 2.00855369e+01,\n",
              "       5.45981500e+01, 1.48413159e+02, 4.03428793e+02, 1.09663316e+03,\n",
              "       2.98095799e+03, 8.10308393e+03])"
            ]
          },
          "metadata": {
            "tags": []
          },
          "execution_count": 73
        }
      ]
    },
    {
      "cell_type": "code",
      "metadata": {
        "id": "TgsAs_QR5jjY",
        "colab": {
          "base_uri": "https://localhost:8080/"
        },
        "outputId": "ab17257b-2bdb-48ae-d478-3b9e8e1af8db"
      },
      "source": [
        "# Trigonometric Functions like sine\n",
        "np.sin(arr)"
      ],
      "execution_count": null,
      "outputs": [
        {
          "output_type": "execute_result",
          "data": {
            "text/plain": [
              "array([ 0.        ,  0.84147098,  0.90929743,  0.14112001, -0.7568025 ,\n",
              "       -0.95892427, -0.2794155 ,  0.6569866 ,  0.98935825,  0.41211849])"
            ]
          },
          "metadata": {
            "tags": []
          },
          "execution_count": 74
        }
      ]
    },
    {
      "cell_type": "code",
      "metadata": {
        "id": "kAe5CfQm5jjY",
        "colab": {
          "base_uri": "https://localhost:8080/"
        },
        "outputId": "04119bc2-8e4a-4ea0-c16b-0f383f79369f"
      },
      "source": [
        "# Taking the Natural Logarithm\n",
        "np.log(arr)"
      ],
      "execution_count": null,
      "outputs": [
        {
          "output_type": "stream",
          "text": [
            "/usr/local/lib/python3.7/dist-packages/ipykernel_launcher.py:2: RuntimeWarning: divide by zero encountered in log\n",
            "  \n"
          ],
          "name": "stderr"
        },
        {
          "output_type": "execute_result",
          "data": {
            "text/plain": [
              "array([      -inf, 0.        , 0.69314718, 1.09861229, 1.38629436,\n",
              "       1.60943791, 1.79175947, 1.94591015, 2.07944154, 2.19722458])"
            ]
          },
          "metadata": {
            "tags": []
          },
          "execution_count": 75
        }
      ]
    },
    {
      "cell_type": "markdown",
      "metadata": {
        "id": "jz2mlvmGSTWN"
      },
      "source": [
        "---"
      ]
    },
    {
      "cell_type": "markdown",
      "metadata": {
        "id": "dqZury3x5jjb"
      },
      "source": [
        "### c. Summary Statistics on Arrays\n",
        "\n",
        "NumPy also offers common summary statistics like <em>sum</em>, <em>mean</em> and <em>max</em>. You would call these as methods on an array."
      ]
    },
    {
      "cell_type": "code",
      "metadata": {
        "id": "cZUcjJfF5jjc",
        "colab": {
          "base_uri": "https://localhost:8080/"
        },
        "outputId": "31c639a7-d3a2-4cec-b0ef-a9da792f9e64"
      },
      "source": [
        "import numpy as np\n",
        "arr = np.arange(0,10)\n",
        "arr"
      ],
      "execution_count": null,
      "outputs": [
        {
          "output_type": "execute_result",
          "data": {
            "text/plain": [
              "array([0, 1, 2, 3, 4, 5, 6, 7, 8, 9])"
            ]
          },
          "metadata": {
            "tags": []
          },
          "execution_count": 76
        }
      ]
    },
    {
      "cell_type": "code",
      "metadata": {
        "id": "bGHZHczA5jjd",
        "colab": {
          "base_uri": "https://localhost:8080/"
        },
        "outputId": "e27f716b-815a-4e50-d96c-ad1fa95ab1ad"
      },
      "source": [
        "arr.sum()"
      ],
      "execution_count": null,
      "outputs": [
        {
          "output_type": "execute_result",
          "data": {
            "text/plain": [
              "45"
            ]
          },
          "metadata": {
            "tags": []
          },
          "execution_count": 77
        }
      ]
    },
    {
      "cell_type": "code",
      "metadata": {
        "id": "Rwq100bG5jje",
        "colab": {
          "base_uri": "https://localhost:8080/"
        },
        "outputId": "4fcd1054-addf-4c3a-e0dd-31ded41c2804"
      },
      "source": [
        "arr.mean()"
      ],
      "execution_count": null,
      "outputs": [
        {
          "output_type": "execute_result",
          "data": {
            "text/plain": [
              "4.5"
            ]
          },
          "metadata": {
            "tags": []
          },
          "execution_count": 78
        }
      ]
    },
    {
      "cell_type": "code",
      "metadata": {
        "id": "mhQhK54H5jjf",
        "colab": {
          "base_uri": "https://localhost:8080/"
        },
        "outputId": "1c530353-dd5b-4c1d-aaa0-c416467f9916"
      },
      "source": [
        "arr.max()"
      ],
      "execution_count": null,
      "outputs": [
        {
          "output_type": "execute_result",
          "data": {
            "text/plain": [
              "9"
            ]
          },
          "metadata": {
            "tags": []
          },
          "execution_count": 79
        }
      ]
    },
    {
      "cell_type": "markdown",
      "metadata": {
        "id": "8RpeSaVa5jjg"
      },
      "source": [
        "<strong>Other summary statistics include:</strong>\n",
        "<pre>\n",
        "arr.min() returns 0                   minimum\n",
        "arr.var() returns 8.25                variance\n",
        "arr.std() returns 2.8722813232690143  standard deviation\n",
        "</pre>"
      ]
    },
    {
      "cell_type": "markdown",
      "metadata": {
        "id": "lyHLQZCGSV6H"
      },
      "source": [
        "---"
      ]
    },
    {
      "cell_type": "markdown",
      "metadata": {
        "id": "VuEHozpR5jjh"
      },
      "source": [
        "### d. Axis Logic\n",
        "When working with `2-dimensional arrays` (matrices) we have to consider `rows` and `columns`. \n",
        "This becomes very important when we get to the section on pandas. In `array` terms, `axis 0` (zero) is the `vertical axis` (rows), and `axis 1` is the `horizonal axis` (columns). \n",
        "\n",
        "These values (0,1) correspond to the order in which <tt>arr.shape</tt> values are returned.\n"
      ]
    },
    {
      "cell_type": "code",
      "metadata": {
        "id": "a3WsDzn95jjh",
        "colab": {
          "base_uri": "https://localhost:8080/"
        },
        "outputId": "069e116d-d19f-42a9-e718-9690d81b5828"
      },
      "source": [
        "import numpy as np\n",
        "arr_2d = np.array([[1,2,3,4],[5,6,7,8],[9,10,11,12]])\n",
        "arr_2d"
      ],
      "execution_count": null,
      "outputs": [
        {
          "output_type": "execute_result",
          "data": {
            "text/plain": [
              "array([[ 1,  2,  3,  4],\n",
              "       [ 5,  6,  7,  8],\n",
              "       [ 9, 10, 11, 12]])"
            ]
          },
          "metadata": {
            "tags": []
          },
          "execution_count": 80
        }
      ]
    },
    {
      "cell_type": "markdown",
      "metadata": {
        "id": "lpzSCEYL5jjk"
      },
      "source": [
        "By passing in <tt>axis=0</tt>, we're returning an array of sums along the vertical axis, essentially <tt>[(1+5+9), (2+6+10), (3+7+11), (4+8+12)]</tt>\n"
      ]
    },
    {
      "cell_type": "markdown",
      "metadata": {
        "id": "b7AF_IUr-IPX"
      },
      "source": [
        "![axis_logic.png](data:image/png;base64,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)"
      ]
    },
    {
      "cell_type": "code",
      "metadata": {
        "id": "E-1xPIuO5jji",
        "colab": {
          "base_uri": "https://localhost:8080/"
        },
        "outputId": "0b054a5c-e518-4230-be40-1bcd1692218e"
      },
      "source": [
        "arr_2d.sum(axis=0)"
      ],
      "execution_count": null,
      "outputs": [
        {
          "output_type": "execute_result",
          "data": {
            "text/plain": [
              "array([15, 18, 21, 24])"
            ]
          },
          "metadata": {
            "tags": []
          },
          "execution_count": 81
        }
      ]
    },
    {
      "cell_type": "markdown",
      "metadata": {
        "id": "wFMRn1ei5jjl"
      },
      "source": [
        "\n",
        "\n",
        "So what should <tt>arr_2d.sum(axis=1)</tt> return?"
      ]
    },
    {
      "cell_type": "code",
      "metadata": {
        "id": "xH3QfJqV5jjm",
        "colab": {
          "base_uri": "https://localhost:8080/"
        },
        "outputId": "61c4bbbe-9309-462d-cc4f-4ccb394c4238"
      },
      "source": [
        "# THINK ABOUT WHAT THIS WILL RETURN BEFORE RUNNING THE CELL!\n",
        "arr_2d.sum(axis=1)"
      ],
      "execution_count": null,
      "outputs": [
        {
          "output_type": "execute_result",
          "data": {
            "text/plain": [
              "array([10, 26, 42])"
            ]
          },
          "metadata": {
            "tags": []
          },
          "execution_count": 82
        }
      ]
    },
    {
      "cell_type": "markdown",
      "metadata": {
        "id": "D1fVKFwdQ5FV"
      },
      "source": [
        "---\n",
        "---"
      ]
    },
    {
      "cell_type": "markdown",
      "metadata": {
        "id": "OKOCqxCxIL_3"
      },
      "source": [
        "\n",
        "# 2 - NumPy Exercises\n",
        "\n",
        "Now that we've learned about NumPy let's test your knowledge. We'll start off with a few simple tasks and then you'll be asked some more complicated questions.\n",
        "\n",
        "<div class=\"alert alert-danger\" style=\"margin: 10px\"><strong>IMPORTANT NOTE!</strong> Make sure you don't run the cells directly above the example output shown, <br>otherwise you will end up writing over the example output!</div>"
      ]
    },
    {
      "cell_type": "markdown",
      "metadata": {
        "id": "P_5vsYxsmALQ"
      },
      "source": [
        "## A. NumPy Arrays"
      ]
    },
    {
      "cell_type": "markdown",
      "metadata": {
        "id": "uwxLHWGBIL_4"
      },
      "source": [
        "### a. Import NumPy as np"
      ]
    },
    {
      "cell_type": "code",
      "metadata": {
        "collapsed": true,
        "id": "htL7z7b7IL_5"
      },
      "source": [
        "import numpy as np"
      ],
      "execution_count": null,
      "outputs": []
    },
    {
      "cell_type": "markdown",
      "metadata": {
        "id": "cnOfPePEQ2I_"
      },
      "source": [
        "---"
      ]
    },
    {
      "cell_type": "markdown",
      "metadata": {
        "id": "Qvx_P5V9IL_6"
      },
      "source": [
        "\n",
        "### b. Create an array of 10 zeros "
      ]
    },
    {
      "cell_type": "code",
      "metadata": {
        "id": "0v9hq_ojIL_7",
        "colab": {
          "base_uri": "https://localhost:8080/"
        },
        "outputId": "a999f29a-6bb3-432b-acb8-530500245842"
      },
      "source": [
        "# CODE HERE\n",
        "my_array = np.zeros(10)\n",
        "my_array"
      ],
      "execution_count": null,
      "outputs": [
        {
          "output_type": "execute_result",
          "data": {
            "text/plain": [
              "array([0., 0., 0., 0., 0., 0., 0., 0., 0., 0.])"
            ]
          },
          "metadata": {
            "tags": []
          },
          "execution_count": 84
        }
      ]
    },
    {
      "cell_type": "code",
      "metadata": {
        "id": "emErzWRmIL_8"
      },
      "source": [
        "# DON'T WRITE HERE"
      ],
      "execution_count": null,
      "outputs": []
    },
    {
      "cell_type": "markdown",
      "metadata": {
        "id": "Gh-KtEBhSfuv"
      },
      "source": [
        "---"
      ]
    },
    {
      "cell_type": "markdown",
      "metadata": {
        "id": "oONjsTzUIL_9"
      },
      "source": [
        "### c. Create an array of 10 ones"
      ]
    },
    {
      "cell_type": "code",
      "metadata": {
        "collapsed": true,
        "id": "gNNfwrGQIL_-",
        "colab": {
          "base_uri": "https://localhost:8080/"
        },
        "outputId": "45b5e28e-7f19-408a-b434-acb6130d0fae"
      },
      "source": [
        "my_array = np.ones(10)\n",
        "my_array"
      ],
      "execution_count": null,
      "outputs": [
        {
          "output_type": "execute_result",
          "data": {
            "text/plain": [
              "array([1., 1., 1., 1., 1., 1., 1., 1., 1., 1.])"
            ]
          },
          "metadata": {
            "tags": []
          },
          "execution_count": 86
        }
      ]
    },
    {
      "cell_type": "code",
      "metadata": {
        "id": "b9ZDOix2IL_-"
      },
      "source": [
        "# DON'T WRITE HERE"
      ],
      "execution_count": null,
      "outputs": []
    },
    {
      "cell_type": "markdown",
      "metadata": {
        "id": "eeVQYF4JSijm"
      },
      "source": [
        "---"
      ]
    },
    {
      "cell_type": "markdown",
      "metadata": {
        "id": "Pd0lNhP6IMAA"
      },
      "source": [
        "\n",
        "### d. Create an array of 10 fives"
      ]
    },
    {
      "cell_type": "code",
      "metadata": {
        "collapsed": true,
        "id": "MaYXLneEIMAC",
        "colab": {
          "base_uri": "https://localhost:8080/"
        },
        "outputId": "8feecb9a-f574-4183-b3db-276094026738"
      },
      "source": [
        "my_array = np.ones(10) * 5\n",
        "my_array"
      ],
      "execution_count": null,
      "outputs": [
        {
          "output_type": "execute_result",
          "data": {
            "text/plain": [
              "array([5., 5., 5., 5., 5., 5., 5., 5., 5., 5.])"
            ]
          },
          "metadata": {
            "tags": []
          },
          "execution_count": 88
        }
      ]
    },
    {
      "cell_type": "code",
      "metadata": {
        "id": "0koxYpvBIMAC"
      },
      "source": [
        "# DON'T WRITE HERE"
      ],
      "execution_count": null,
      "outputs": []
    },
    {
      "cell_type": "markdown",
      "metadata": {
        "id": "ObgU2tvnSjY1"
      },
      "source": [
        "---"
      ]
    },
    {
      "cell_type": "markdown",
      "metadata": {
        "id": "4UYfMSK5IMAC"
      },
      "source": [
        "\n",
        "### e. Create an array of the integers from 10 to 50"
      ]
    },
    {
      "cell_type": "code",
      "metadata": {
        "collapsed": true,
        "id": "JZb6LvuMIMAD",
        "colab": {
          "base_uri": "https://localhost:8080/"
        },
        "outputId": "458713df-f68b-46e8-a2bf-2fbd13e49e96"
      },
      "source": [
        "my_array = np.arange(10, 51)\n",
        "my_array"
      ],
      "execution_count": null,
      "outputs": [
        {
          "output_type": "execute_result",
          "data": {
            "text/plain": [
              "array([10, 11, 12, 13, 14, 15, 16, 17, 18, 19, 20, 21, 22, 23, 24, 25, 26,\n",
              "       27, 28, 29, 30, 31, 32, 33, 34, 35, 36, 37, 38, 39, 40, 41, 42, 43,\n",
              "       44, 45, 46, 47, 48, 49, 50])"
            ]
          },
          "metadata": {
            "tags": []
          },
          "execution_count": 90
        }
      ]
    },
    {
      "cell_type": "code",
      "metadata": {
        "id": "cWx5cLI1IMAE"
      },
      "source": [
        "# DON'T WRITE HERE"
      ],
      "execution_count": null,
      "outputs": []
    },
    {
      "cell_type": "markdown",
      "metadata": {
        "id": "t49IvQDDSlAm"
      },
      "source": [
        "---"
      ]
    },
    {
      "cell_type": "markdown",
      "metadata": {
        "id": "ZzN9aOShIMAG"
      },
      "source": [
        "### f. Create an array of all the even integers from 10 to 50"
      ]
    },
    {
      "cell_type": "code",
      "metadata": {
        "collapsed": true,
        "id": "10V-oRpMIMAG",
        "colab": {
          "base_uri": "https://localhost:8080/"
        },
        "outputId": "6af384e1-da4d-4bfb-c7c7-e13ac4f9e35e"
      },
      "source": [
        "my_array = np.arange(10, 51, 2)\n",
        "my_array"
      ],
      "execution_count": null,
      "outputs": [
        {
          "output_type": "execute_result",
          "data": {
            "text/plain": [
              "array([10, 12, 14, 16, 18, 20, 22, 24, 26, 28, 30, 32, 34, 36, 38, 40, 42,\n",
              "       44, 46, 48, 50])"
            ]
          },
          "metadata": {
            "tags": []
          },
          "execution_count": 92
        }
      ]
    },
    {
      "cell_type": "code",
      "metadata": {
        "id": "6gv7a4OMIMAH"
      },
      "source": [
        "# DON'T WRITE HERE"
      ],
      "execution_count": null,
      "outputs": []
    },
    {
      "cell_type": "markdown",
      "metadata": {
        "id": "5HlhvoHWSnQp"
      },
      "source": [
        "---"
      ]
    },
    {
      "cell_type": "markdown",
      "metadata": {
        "id": "wVmnMxpPIMAI"
      },
      "source": [
        "### g. Create a 3x3 matrix with values ranging from 0 to 8"
      ]
    },
    {
      "cell_type": "code",
      "metadata": {
        "collapsed": true,
        "id": "ad5DrMFKIMAK",
        "colab": {
          "base_uri": "https://localhost:8080/"
        },
        "outputId": "5140c92d-ccf9-4cdd-de0b-bce122b5ea08"
      },
      "source": [
        "my_array = np.arange(0, 9).reshape(3, 3)\n",
        "my_array"
      ],
      "execution_count": null,
      "outputs": [
        {
          "output_type": "execute_result",
          "data": {
            "text/plain": [
              "array([[0, 1, 2],\n",
              "       [3, 4, 5],\n",
              "       [6, 7, 8]])"
            ]
          },
          "metadata": {
            "tags": []
          },
          "execution_count": 94
        }
      ]
    },
    {
      "cell_type": "code",
      "metadata": {
        "id": "CL_UY82cIMAK"
      },
      "source": [
        "# DON'T WRITE HERE"
      ],
      "execution_count": null,
      "outputs": []
    },
    {
      "cell_type": "markdown",
      "metadata": {
        "id": "WC1LNrytSpKx"
      },
      "source": [
        "---"
      ]
    },
    {
      "cell_type": "markdown",
      "metadata": {
        "id": "u2qZHdG4IMAL"
      },
      "source": [
        "### h. Create a 3x3 identity matrix"
      ]
    },
    {
      "cell_type": "code",
      "metadata": {
        "collapsed": true,
        "id": "9B9vawruIMAL",
        "colab": {
          "base_uri": "https://localhost:8080/"
        },
        "outputId": "38c0c1bb-45ad-4376-b5bc-d3bfc60924cd"
      },
      "source": [
        "my_array = np.eye(3)\n",
        "my_array"
      ],
      "execution_count": null,
      "outputs": [
        {
          "output_type": "execute_result",
          "data": {
            "text/plain": [
              "array([[1., 0., 0.],\n",
              "       [0., 1., 0.],\n",
              "       [0., 0., 1.]])"
            ]
          },
          "metadata": {
            "tags": []
          },
          "execution_count": 96
        }
      ]
    },
    {
      "cell_type": "code",
      "metadata": {
        "id": "8bYOmgCTIMAM"
      },
      "source": [
        "# DON'T WRITE HERE"
      ],
      "execution_count": null,
      "outputs": []
    },
    {
      "cell_type": "markdown",
      "metadata": {
        "id": "eSNZqJ1nSsne"
      },
      "source": [
        "---"
      ]
    },
    {
      "cell_type": "markdown",
      "metadata": {
        "id": "CyeDlqbJIMAN"
      },
      "source": [
        "### i. Use NumPy to generate a random number between 0 and 1\n",
        "\n",
        "NOTE: Your result's value should be different from the one shown below."
      ]
    },
    {
      "cell_type": "code",
      "metadata": {
        "collapsed": true,
        "id": "jojZRpSjIMAN",
        "colab": {
          "base_uri": "https://localhost:8080/"
        },
        "outputId": "926a0848-f0a5-4f7d-963f-ba394cd38ac8"
      },
      "source": [
        "my_array = np.random.rand(1)\n",
        "my_array"
      ],
      "execution_count": null,
      "outputs": [
        {
          "output_type": "execute_result",
          "data": {
            "text/plain": [
              "array([0.02058449])"
            ]
          },
          "metadata": {
            "tags": []
          },
          "execution_count": 98
        }
      ]
    },
    {
      "cell_type": "code",
      "metadata": {
        "id": "0tqj6oVDIMAN"
      },
      "source": [
        "# DON'T WRITE HERE"
      ],
      "execution_count": null,
      "outputs": []
    },
    {
      "cell_type": "markdown",
      "metadata": {
        "id": "4dNbKqklSvlF"
      },
      "source": [
        "---"
      ]
    },
    {
      "cell_type": "markdown",
      "metadata": {
        "id": "cKUabQY7IMAN"
      },
      "source": [
        "### j. Use NumPy to generate an array of 25 random numbers sampled from a standard normal distribution\n",
        "\n",
        "NOTE: Your result's values should be different from the ones shown below."
      ]
    },
    {
      "cell_type": "code",
      "metadata": {
        "collapsed": true,
        "id": "7kOZ0_LYIMAO",
        "colab": {
          "base_uri": "https://localhost:8080/"
        },
        "outputId": "27a9abdc-b1ae-4140-eef5-34322de3d811"
      },
      "source": [
        "my_array = np.random.randn(25)\n",
        "my_array"
      ],
      "execution_count": null,
      "outputs": [
        {
          "output_type": "execute_result",
          "data": {
            "text/plain": [
              "array([-0.58087813, -0.52516981, -0.57138017, -0.92408284, -2.61254901,\n",
              "        0.95036968,  0.81644508, -1.523876  , -0.42804606, -0.74240684,\n",
              "       -0.7033438 , -2.13962066, -0.62947496,  0.59772047,  2.55948803,\n",
              "        0.39423302,  0.12221917, -0.51543566, -0.60025385,  0.94743982,\n",
              "        0.291034  , -0.63555974, -1.02155219, -0.16175539, -0.5336488 ])"
            ]
          },
          "metadata": {
            "tags": []
          },
          "execution_count": 100
        }
      ]
    },
    {
      "cell_type": "code",
      "metadata": {
        "id": "lX8V3tWWIMAO"
      },
      "source": [
        "# DON'T WRITE HERE"
      ],
      "execution_count": null,
      "outputs": []
    },
    {
      "cell_type": "markdown",
      "metadata": {
        "id": "nt5XQhv-Swv9"
      },
      "source": [
        "---"
      ]
    },
    {
      "cell_type": "markdown",
      "metadata": {
        "id": "6K0UHqmTIMAP"
      },
      "source": [
        "### k. Create 10x10 matrix with values ranging from 0.01 to 1"
      ]
    },
    {
      "cell_type": "code",
      "metadata": {
        "collapsed": true,
        "id": "0LG75XUgIMAP",
        "colab": {
          "base_uri": "https://localhost:8080/"
        },
        "outputId": "3a476559-53d7-4816-c8ba-c222a5e5597f"
      },
      "source": [
        "my_array = np.arange(0.01, 1.01, 0.01).reshape(10, 10)\n",
        "my_array"
      ],
      "execution_count": null,
      "outputs": [
        {
          "output_type": "execute_result",
          "data": {
            "text/plain": [
              "array([[0.01, 0.02, 0.03, 0.04, 0.05, 0.06, 0.07, 0.08, 0.09, 0.1 ],\n",
              "       [0.11, 0.12, 0.13, 0.14, 0.15, 0.16, 0.17, 0.18, 0.19, 0.2 ],\n",
              "       [0.21, 0.22, 0.23, 0.24, 0.25, 0.26, 0.27, 0.28, 0.29, 0.3 ],\n",
              "       [0.31, 0.32, 0.33, 0.34, 0.35, 0.36, 0.37, 0.38, 0.39, 0.4 ],\n",
              "       [0.41, 0.42, 0.43, 0.44, 0.45, 0.46, 0.47, 0.48, 0.49, 0.5 ],\n",
              "       [0.51, 0.52, 0.53, 0.54, 0.55, 0.56, 0.57, 0.58, 0.59, 0.6 ],\n",
              "       [0.61, 0.62, 0.63, 0.64, 0.65, 0.66, 0.67, 0.68, 0.69, 0.7 ],\n",
              "       [0.71, 0.72, 0.73, 0.74, 0.75, 0.76, 0.77, 0.78, 0.79, 0.8 ],\n",
              "       [0.81, 0.82, 0.83, 0.84, 0.85, 0.86, 0.87, 0.88, 0.89, 0.9 ],\n",
              "       [0.91, 0.92, 0.93, 0.94, 0.95, 0.96, 0.97, 0.98, 0.99, 1.  ]])"
            ]
          },
          "metadata": {
            "tags": []
          },
          "execution_count": 102
        }
      ]
    },
    {
      "cell_type": "code",
      "metadata": {
        "id": "BzVmqf3HIMAQ"
      },
      "source": [
        "# DON'T WRITE HERE"
      ],
      "execution_count": null,
      "outputs": []
    },
    {
      "cell_type": "markdown",
      "metadata": {
        "id": "uHHpmVnaSzi1"
      },
      "source": [
        "---"
      ]
    },
    {
      "cell_type": "markdown",
      "metadata": {
        "id": "p03mpd7WIMAR"
      },
      "source": [
        "\n",
        "### l. Create an array of 20 linearly spaced points between 0 and 1"
      ]
    },
    {
      "cell_type": "code",
      "metadata": {
        "id": "Gr4lNPt-IMAR",
        "colab": {
          "base_uri": "https://localhost:8080/"
        },
        "outputId": "906da7b5-d35e-4d3f-8b86-12849df763b9"
      },
      "source": [
        "my_array = np.linspace(0, 1, 20)\n",
        "my_array"
      ],
      "execution_count": null,
      "outputs": [
        {
          "output_type": "execute_result",
          "data": {
            "text/plain": [
              "array([0.        , 0.05263158, 0.10526316, 0.15789474, 0.21052632,\n",
              "       0.26315789, 0.31578947, 0.36842105, 0.42105263, 0.47368421,\n",
              "       0.52631579, 0.57894737, 0.63157895, 0.68421053, 0.73684211,\n",
              "       0.78947368, 0.84210526, 0.89473684, 0.94736842, 1.        ])"
            ]
          },
          "metadata": {
            "tags": []
          },
          "execution_count": 104
        }
      ]
    },
    {
      "cell_type": "code",
      "metadata": {
        "id": "Q0--shQ4IMAR"
      },
      "source": [
        "# DON'T WRITE HERE"
      ],
      "execution_count": null,
      "outputs": []
    },
    {
      "cell_type": "markdown",
      "metadata": {
        "id": "KElOL7xiS1Zm"
      },
      "source": [
        "---"
      ]
    },
    {
      "cell_type": "markdown",
      "metadata": {
        "id": "0hGNCvkCIMAS"
      },
      "source": [
        "\n",
        "## B.  Numpy Indexing and Selection\n",
        "\n",
        "Now you will be given a starting matrix (be sure to run the cell below!), and be asked to replicate the resulting matrix outputs:"
      ]
    },
    {
      "cell_type": "code",
      "metadata": {
        "id": "1WMYbUxvIMAS",
        "colab": {
          "base_uri": "https://localhost:8080/"
        },
        "outputId": "8c8f7ac4-be7d-4e76-a5df-d7af22a0929e"
      },
      "source": [
        "# RUN THIS CELL - THIS IS OUR STARTING MATRIX\n",
        "mat = np.arange(1,26).reshape(5,5)\n",
        "mat"
      ],
      "execution_count": null,
      "outputs": [
        {
          "output_type": "execute_result",
          "data": {
            "text/plain": [
              "array([[ 1,  2,  3,  4,  5],\n",
              "       [ 6,  7,  8,  9, 10],\n",
              "       [11, 12, 13, 14, 15],\n",
              "       [16, 17, 18, 19, 20],\n",
              "       [21, 22, 23, 24, 25]])"
            ]
          },
          "metadata": {
            "tags": []
          },
          "execution_count": 106
        }
      ]
    },
    {
      "cell_type": "markdown",
      "metadata": {
        "id": "ZA3W9gG9S5Mt"
      },
      "source": [
        "---"
      ]
    },
    {
      "cell_type": "markdown",
      "metadata": {
        "id": "GGbQEzeIIMAT"
      },
      "source": [
        "\n",
        "### a. Write code that reproduces the output shown below.\n",
        "\n",
        "Be careful not to run the cell immediately above the output, otherwise you won't be able to see the output any more."
      ]
    },
    {
      "cell_type": "code",
      "metadata": {
        "collapsed": true,
        "id": "LklL8zTmIMAT",
        "colab": {
          "base_uri": "https://localhost:8080/"
        },
        "outputId": "86887779-2fc0-42ca-9b1b-939ce25ffd79"
      },
      "source": [
        "# CODE HERE\n",
        "mat[2:, 1:]"
      ],
      "execution_count": null,
      "outputs": [
        {
          "output_type": "execute_result",
          "data": {
            "text/plain": [
              "array([[12, 13, 14, 15],\n",
              "       [17, 18, 19, 20],\n",
              "       [22, 23, 24, 25]])"
            ]
          },
          "metadata": {
            "tags": []
          },
          "execution_count": 107
        }
      ]
    },
    {
      "cell_type": "code",
      "metadata": {
        "id": "riih9BuPIMAT"
      },
      "source": [
        "# DON'T WRITE HERE"
      ],
      "execution_count": null,
      "outputs": []
    },
    {
      "cell_type": "markdown",
      "metadata": {
        "id": "uCgozTPES6Ts"
      },
      "source": [
        "---"
      ]
    },
    {
      "cell_type": "markdown",
      "metadata": {
        "id": "6SkjBjqAIMAU"
      },
      "source": [
        "\n",
        "### b. Write code that reproduces the output shown below."
      ]
    },
    {
      "cell_type": "code",
      "metadata": {
        "collapsed": true,
        "id": "USqpficSIMAU",
        "colab": {
          "base_uri": "https://localhost:8080/"
        },
        "outputId": "d96f15db-799d-41b5-d0f3-ec62a3156125"
      },
      "source": [
        "mat[3,4]"
      ],
      "execution_count": null,
      "outputs": [
        {
          "output_type": "execute_result",
          "data": {
            "text/plain": [
              "20"
            ]
          },
          "metadata": {
            "tags": []
          },
          "execution_count": 109
        }
      ]
    },
    {
      "cell_type": "code",
      "metadata": {
        "id": "Gm4PZiVaIMAV"
      },
      "source": [
        "# DON'T WRITE HERE"
      ],
      "execution_count": null,
      "outputs": []
    },
    {
      "cell_type": "markdown",
      "metadata": {
        "id": "3TSuCJ1QS7wI"
      },
      "source": [
        "---"
      ]
    },
    {
      "cell_type": "markdown",
      "metadata": {
        "id": "MUP0axvNIMAV"
      },
      "source": [
        "\n",
        "### c. Write code that reproduces the output shown below."
      ]
    },
    {
      "cell_type": "code",
      "metadata": {
        "collapsed": true,
        "id": "qx8PkGCqIMAV",
        "colab": {
          "base_uri": "https://localhost:8080/"
        },
        "outputId": "23e27123-b9dc-48d9-9a80-fa4f913c5806"
      },
      "source": [
        "mat[:3, 1].reshape(3, 1)"
      ],
      "execution_count": null,
      "outputs": [
        {
          "output_type": "execute_result",
          "data": {
            "text/plain": [
              "array([[ 2],\n",
              "       [ 7],\n",
              "       [12]])"
            ]
          },
          "metadata": {
            "tags": []
          },
          "execution_count": 111
        }
      ]
    },
    {
      "cell_type": "code",
      "metadata": {
        "id": "TyfNl4LBIMAW"
      },
      "source": [
        "# DON'T WRITE HERE"
      ],
      "execution_count": null,
      "outputs": []
    },
    {
      "cell_type": "markdown",
      "metadata": {
        "id": "Z4FuA2KQTB0N"
      },
      "source": [
        "---"
      ]
    },
    {
      "cell_type": "markdown",
      "metadata": {
        "id": "sf_nRxI1IMAX"
      },
      "source": [
        "\n",
        "### d. Write code that reproduces the output shown below."
      ]
    },
    {
      "cell_type": "code",
      "metadata": {
        "collapsed": true,
        "id": "9M4640dsIMAX",
        "colab": {
          "base_uri": "https://localhost:8080/"
        },
        "outputId": "a9c5f6cd-1da1-41e9-bd22-2840c1b9d8f8"
      },
      "source": [
        "mat[4]"
      ],
      "execution_count": null,
      "outputs": [
        {
          "output_type": "execute_result",
          "data": {
            "text/plain": [
              "array([21, 22, 23, 24, 25])"
            ]
          },
          "metadata": {
            "tags": []
          },
          "execution_count": 113
        }
      ]
    },
    {
      "cell_type": "code",
      "metadata": {
        "id": "OPhmDtasIMAZ"
      },
      "source": [
        "# DON'T WRITE HERE"
      ],
      "execution_count": null,
      "outputs": []
    },
    {
      "cell_type": "markdown",
      "metadata": {
        "id": "yWCDHuGWTDok"
      },
      "source": [
        "---"
      ]
    },
    {
      "cell_type": "markdown",
      "metadata": {
        "id": "5NqqAhrqIMAZ"
      },
      "source": [
        "\n",
        "### e. Write code that reproduces the output shown below."
      ]
    },
    {
      "cell_type": "code",
      "metadata": {
        "collapsed": true,
        "id": "gShpJlzLIMAZ",
        "colab": {
          "base_uri": "https://localhost:8080/"
        },
        "outputId": "3adba970-ece1-4d49-8db4-eecf81591b94"
      },
      "source": [
        "mat[3:5]"
      ],
      "execution_count": null,
      "outputs": [
        {
          "output_type": "execute_result",
          "data": {
            "text/plain": [
              "array([[16, 17, 18, 19, 20],\n",
              "       [21, 22, 23, 24, 25]])"
            ]
          },
          "metadata": {
            "tags": []
          },
          "execution_count": 115
        }
      ]
    },
    {
      "cell_type": "code",
      "metadata": {
        "id": "e5jFIs9gIMAZ"
      },
      "source": [
        "# DON'T WRITE HERE"
      ],
      "execution_count": null,
      "outputs": []
    },
    {
      "cell_type": "markdown",
      "metadata": {
        "id": "TW7oQa8TTF9s"
      },
      "source": [
        "---"
      ]
    },
    {
      "cell_type": "markdown",
      "metadata": {
        "id": "ZbGzX5KbIMAZ"
      },
      "source": [
        "## C. NumPy Operations"
      ]
    },
    {
      "cell_type": "markdown",
      "metadata": {
        "id": "2ojg3mchIMAa"
      },
      "source": [
        "### a. Get the sum of all the values in mat"
      ]
    },
    {
      "cell_type": "code",
      "metadata": {
        "collapsed": true,
        "id": "nCAckWrHIMAa",
        "colab": {
          "base_uri": "https://localhost:8080/"
        },
        "outputId": "793fbe55-3373-40a5-b195-295e3432085d"
      },
      "source": [
        "mat.sum()"
      ],
      "execution_count": null,
      "outputs": [
        {
          "output_type": "execute_result",
          "data": {
            "text/plain": [
              "325"
            ]
          },
          "metadata": {
            "tags": []
          },
          "execution_count": 117
        }
      ]
    },
    {
      "cell_type": "code",
      "metadata": {
        "id": "BHbzNFYcIMAa"
      },
      "source": [
        "# DON'T WRITE HERE"
      ],
      "execution_count": null,
      "outputs": []
    },
    {
      "cell_type": "markdown",
      "metadata": {
        "id": "v1na45PHTIhH"
      },
      "source": [
        "---"
      ]
    },
    {
      "cell_type": "markdown",
      "metadata": {
        "id": "Rme4nBt-IMAb"
      },
      "source": [
        "### b. Get the standard deviation of the values in mat"
      ]
    },
    {
      "cell_type": "code",
      "metadata": {
        "collapsed": true,
        "id": "fyXWue8eIMAb",
        "colab": {
          "base_uri": "https://localhost:8080/"
        },
        "outputId": "8ee1a696-f6df-4639-b910-87b5e3b40cd8"
      },
      "source": [
        "mat.std()"
      ],
      "execution_count": null,
      "outputs": [
        {
          "output_type": "execute_result",
          "data": {
            "text/plain": [
              "7.211102550927978"
            ]
          },
          "metadata": {
            "tags": []
          },
          "execution_count": 119
        }
      ]
    },
    {
      "cell_type": "code",
      "metadata": {
        "id": "oJz4utibIMAb"
      },
      "source": [
        "# DON'T WRITE HERE"
      ],
      "execution_count": null,
      "outputs": []
    },
    {
      "cell_type": "markdown",
      "metadata": {
        "id": "gVZihMnyTKp8"
      },
      "source": [
        "---"
      ]
    },
    {
      "cell_type": "markdown",
      "metadata": {
        "id": "zUNRRI_tIMAc"
      },
      "source": [
        "\n",
        "### c. Get the sum of all the columns in mat"
      ]
    },
    {
      "cell_type": "code",
      "metadata": {
        "collapsed": true,
        "id": "a7jK3coSIMAd",
        "colab": {
          "base_uri": "https://localhost:8080/"
        },
        "outputId": "4129717b-8499-4c91-d9f1-a776aa2d8e61"
      },
      "source": [
        "mat.sum(axis=0) # axis = 0 -> baris (menjumlahkan semua baris pada tiap kolom)"
      ],
      "execution_count": null,
      "outputs": [
        {
          "output_type": "execute_result",
          "data": {
            "text/plain": [
              "array([55, 60, 65, 70, 75])"
            ]
          },
          "metadata": {
            "tags": []
          },
          "execution_count": 121
        }
      ]
    },
    {
      "cell_type": "code",
      "metadata": {
        "id": "pSp9w4_GIMAd"
      },
      "source": [
        "# DON'T WRITE HERE"
      ],
      "execution_count": null,
      "outputs": []
    },
    {
      "cell_type": "markdown",
      "metadata": {
        "id": "ZhIy4zZOUunk"
      },
      "source": [
        "---\n",
        "---"
      ]
    }
  ]
}